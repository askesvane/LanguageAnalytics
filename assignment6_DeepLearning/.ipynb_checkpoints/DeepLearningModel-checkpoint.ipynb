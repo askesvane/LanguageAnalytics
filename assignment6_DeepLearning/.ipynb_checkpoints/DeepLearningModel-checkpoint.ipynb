{
 "cells": [
  {
   "cell_type": "markdown",
   "metadata": {},
   "source": [
    "## Deep learning model"
   ]
  },
  {
   "cell_type": "code",
   "execution_count": 198,
   "metadata": {},
   "outputs": [],
   "source": [
    "# system tools\n",
    "import os\n",
    "import sys\n",
    "sys.path.append(os.path.join(\"..\"))\n",
    "\n",
    "# pandas, numpy, gensim\n",
    "import pandas as pd\n",
    "import numpy as np\n",
    "import gensim.downloader\n",
    "\n",
    "# Machine learning stuff\n",
    "from sklearn.model_selection import train_test_split\n",
    "from sklearn.feature_extraction.text import CountVectorizer, TfidfVectorizer\n",
    "from sklearn.linear_model import LogisticRegression\n",
    "from sklearn.model_selection import ShuffleSplit\n",
    "from sklearn import metrics\n",
    "\n",
    "# tools from tensorflow\n",
    "import tensorflow as tf\n",
    "from tensorflow.keras.models import Sequential\n",
    "from tensorflow.keras.layers import (Dense, Embedding, \n",
    "                                     Flatten, GlobalMaxPool1D, Conv1D)\n",
    "from tensorflow.keras.optimizers import SGD, Adam\n",
    "from tensorflow.keras import backend as K\n",
    "from tensorflow.keras.utils import plot_model\n",
    "from tensorflow.keras.preprocessing.text import Tokenizer\n",
    "from tensorflow.keras.preprocessing.sequence import pad_sequences\n",
    "from tensorflow.keras.regularizers import L2\n",
    "\n",
    "# sklearn tools\n",
    "from sklearn.preprocessing import LabelBinarizer\n",
    "\n",
    "# additional packages\n",
    "import matplotlib.pyplot as plt\n",
    "from itertools import repeat\n",
    "import itertools"
   ]
  },
  {
   "cell_type": "markdown",
   "metadata": {},
   "source": [
    "__Functions for later__"
   ]
  },
  {
   "cell_type": "code",
   "execution_count": 199,
   "metadata": {},
   "outputs": [],
   "source": [
    "def plot_history(H, epochs):\n",
    "    \"\"\"\n",
    "    Utility function for plotting model history using matplotlib\n",
    "    \n",
    "    H: model history \n",
    "    epochs: number of epochs for which the model was trained\n",
    "    \"\"\"\n",
    "    plt.style.use(\"fivethirtyeight\")\n",
    "    plt.figure()\n",
    "    plt.plot(np.arange(0, epochs), H.history[\"loss\"], label=\"train_loss\")\n",
    "    plt.plot(np.arange(0, epochs), H.history[\"val_loss\"], label=\"val_loss\")\n",
    "    plt.plot(np.arange(0, epochs), H.history[\"accuracy\"], label=\"train_acc\")\n",
    "    plt.plot(np.arange(0, epochs), H.history[\"val_accuracy\"], label=\"val_acc\")\n",
    "    plt.title(\"Training Loss and Accuracy\")\n",
    "    plt.xlabel(\"Epoch #\")\n",
    "    plt.ylabel(\"Loss/Accuracy\")\n",
    "    plt.legend()\n",
    "    plt.tight_layout()\n",
    "    plt.show()\n",
    "    \n",
    "\n",
    "def create_embedding_matrix(filepath, word_index, embedding_dim):\n",
    "    \"\"\" \n",
    "    A helper function to read in saved GloVe embeddings and create an embedding matrix\n",
    "    \n",
    "    filepath: path to GloVe embedding\n",
    "    word_index: indices from keras Tokenizer\n",
    "    embedding_dim: dimensions of keras embedding layer\n",
    "    \"\"\"\n",
    "    vocab_size = len(word_index) + 1  # Adding again 1 because of reserved 0 index\n",
    "    embedding_matrix = np.zeros((vocab_size, embedding_dim))\n",
    "\n",
    "    with open(filepath) as f:\n",
    "        for line in f:\n",
    "            word, *vector = line.split()\n",
    "            if word in word_index:\n",
    "                idx = word_index[word] \n",
    "                embedding_matrix[idx] = np.array(\n",
    "                    vector, dtype=np.float32)[:embedding_dim]\n",
    "\n",
    "    return embedding_matrix"
   ]
  },
  {
   "cell_type": "markdown",
   "metadata": {},
   "source": [
    "__My data preparation__"
   ]
  },
  {
   "cell_type": "code",
   "execution_count": 200,
   "metadata": {},
   "outputs": [],
   "source": [
    "# FUNCTIONS\n",
    "# Balance data \n",
    "\"\"\"\n",
    "Function to balance data.\n",
    "dataframe = df to be balanced\n",
    "colname = column with labels the data should be balanced according to\n",
    "n = row per label\n",
    "\"\"\"\n",
    "def balance(dataframe, colname, n=500):\n",
    "\n",
    "    # Use pandas select a random bunch of examples from each label\n",
    "    out = (dataframe.groupby(colname, as_index=False)\n",
    "            .apply(lambda x: x.sample(n=n))\n",
    "            .reset_index(drop=True))\n",
    "    \n",
    "    return out"
   ]
  },
  {
   "cell_type": "code",
   "execution_count": 201,
   "metadata": {},
   "outputs": [],
   "source": [
    "# Read the data as 'DATA' from the data folder\n",
    "filename = os.path.join(\"data\", \"Game_of_Thrones_Script.csv\")\n",
    "DATA = pd.read_csv(filename, index_col=0)"
   ]
  },
  {
   "cell_type": "code",
   "execution_count": 202,
   "metadata": {},
   "outputs": [],
   "source": [
    "# Get a list of uniques seasons (1 to 8)\n",
    "seasons = DATA.Season.unique()\n",
    "\n",
    "# Create empty list to save text chunks and corresponding labels\n",
    "text = []\n",
    "labels = []"
   ]
  },
  {
   "cell_type": "code",
   "execution_count": 203,
   "metadata": {},
   "outputs": [],
   "source": [
    "# Loop over every season and chunk 20 lines together + save season label.\n",
    "for i in seasons:\n",
    "    \n",
    "    # Get data from season\n",
    "    season = DATA[DATA[\"Season\"] == i]  \n",
    "    \n",
    "    # Get lines\n",
    "    sentences = season[\"Sentence\"]\n",
    "    \n",
    "    # Chunk lines together\n",
    "    chunks = []\n",
    "    for w in range(0, len(sentences), 5):\n",
    "        chunks.append(' '.join(sentences[w:w+5]))\n",
    "    \n",
    "    # Save to lists outside the loop\n",
    "    labels.extend(repeat(i, len(chunks)))\n",
    "    text.append(chunks)\n",
    "\n",
    "# From list of lists --> to list\n",
    "text = list(itertools.chain(*text))"
   ]
  },
  {
   "cell_type": "code",
   "execution_count": 204,
   "metadata": {},
   "outputs": [],
   "source": [
    "# I store the lists of data in a new df in order to balance the data.\n",
    "df = pd.DataFrame()\n",
    "df[\"season\"] = labels\n",
    "df[\"line_chunks\"] = text\n",
    "\n",
    "# Get the minimum amount of line chunks for a season - balance accordingly\n",
    "min_count = df[\"season\"].value_counts().min()\n",
    "\n",
    "# Use predefined balance() function to balance amount of entrances across seasons\n",
    "balanced = balance(df, \"season\", min_count)\n",
    "\n",
    "# Extract information from the df\n",
    "line_chunks = balanced[\"line_chunks\"]\n",
    "season = balanced[\"season\"]"
   ]
  },
  {
   "cell_type": "code",
   "execution_count": 205,
   "metadata": {},
   "outputs": [
    {
     "data": {
      "text/plain": [
       "True"
      ]
     },
     "execution_count": 205,
     "metadata": {},
     "output_type": "execute_result"
    }
   ],
   "source": [
    "len(season) == len(line_chunks) # True"
   ]
  },
  {
   "cell_type": "code",
   "execution_count": 206,
   "metadata": {},
   "outputs": [],
   "source": [
    "# Split the data in train and test.\n",
    "X_train, X_test, y_train, y_test = train_test_split(line_chunks,     # sentences for the model\n",
    "                                                    season,          # classification labels (seasons)\n",
    "                                                    test_size=0.25,   # create an 70/30 split\n",
    "                                                    random_state=42) # random state for reproducibility"
   ]
  },
  {
   "cell_type": "code",
   "execution_count": 207,
   "metadata": {},
   "outputs": [],
   "source": [
    "X_train = X_train.to_numpy()\n",
    "X_test = X_test.to_numpy()\n",
    "y_train = y_train.to_numpy()\n",
    "y_test = y_test.to_numpy()\n",
    "\n",
    "# Binarize the labels\n",
    "lb = LabelBinarizer() \n",
    "y_train = lb.fit_transform(y_train)\n",
    "y_test = lb.fit_transform(y_test)"
   ]
  },
  {
   "cell_type": "markdown",
   "metadata": {},
   "source": [
    "__Word embeddings__"
   ]
  },
  {
   "cell_type": "code",
   "execution_count": 208,
   "metadata": {},
   "outputs": [
    {
     "name": "stdout",
     "output_type": "stream",
     "text": [
      "Difficult to say. Hours, days, it depends on the subject's constitution. But death is certain? Oh yes, Your Grace, quite certain. Your daughter will die here in this cell. You will be here watching when she does. You will be here the rest of your days. If you refuse to eat we will force food down your throat. You will live to watch your daughter rot, to watch that beautiful face collapse to bone and dust all the while contemplating the choices you've made. Make sure the guards change the torches every few hours. I don't want her to miss a thing.\n",
      "[951, 3, 127, 952, 353, 10, 2700, 30, 1, 3689, 3690, 34, 302, 13, 888, 165, 107, 8, 86, 324, 888, 8, 598, 29, 146, 47, 12, 33, 889, 2, 29, 21, 47, 689, 60, 43, 159, 2, 29, 21, 47, 1, 291, 7, 8, 353, 36, 2, 953, 3, 512, 17, 29, 724, 584, 132, 8, 890, 2, 29, 307, 3, 226, 8, 598, 1869, 3, 226, 16, 469, 281, 1870, 3, 1871, 6, 2701, 37, 1, 299, 3691, 1, 1872, 136, 197, 103, 210, 1, 891, 1034, 1, 3692, 160, 389, 952, 4, 28, 52, 31, 3, 1035, 5, 206]\n"
     ]
    }
   ],
   "source": [
    "# initialize tokenizer\n",
    "# convert text into numbers (regardless of the length of the corpus we define this as 5000)\n",
    "tokenizer = Tokenizer(num_words=10000)\n",
    "\n",
    "# fit to training data - fit to the raw text data. vocabolary of 10000 words now fit onto our training data\n",
    "tokenizer.fit_on_texts(X_train)\n",
    "\n",
    "# tokenized training and test data\n",
    "X_train_toks = tokenizer.texts_to_sequences(X_train)\n",
    "X_test_toks = tokenizer.texts_to_sequences(X_test)\n",
    "\n",
    "# overall vocabulary size\n",
    "vocab_size = len(tokenizer.word_index) + 1  # Adding 1 because of reserved 0 index\n",
    "\n",
    "# inspect\n",
    "print(X_train[1])\n",
    "print(X_train_toks[1])\n"
   ]
  },
  {
   "cell_type": "code",
   "execution_count": null,
   "metadata": {},
   "outputs": [],
   "source": []
  },
  {
   "cell_type": "markdown",
   "metadata": {},
   "source": [
    "__Padding__ <br> To make the Tokenizer output workable, we need to pad the documents to be of equal length."
   ]
  },
  {
   "cell_type": "code",
   "execution_count": 209,
   "metadata": {},
   "outputs": [],
   "source": [
    "balanced['totalwords'] = balanced['line_chunks'].str.split().str.len()\n",
    "maxlen = int(balanced[balanced['totalwords'] == balanced['totalwords'].max()]['totalwords'])"
   ]
  },
  {
   "cell_type": "code",
   "execution_count": 210,
   "metadata": {},
   "outputs": [],
   "source": [
    "\n",
    "# pad training data to maxlen\n",
    "X_train_pad = pad_sequences(X_train_toks, \n",
    "                            padding='post', # sequences can be padded \"pre\" or \"post\"\n",
    "                            maxlen=maxlen) # maximum length\n",
    "# pad testing data to maxlen\n",
    "X_test_pad = pad_sequences(X_test_toks, \n",
    "                           padding='post', \n",
    "                           maxlen=maxlen)"
   ]
  },
  {
   "cell_type": "code",
   "execution_count": 211,
   "metadata": {},
   "outputs": [
    {
     "name": "stdout",
     "output_type": "stream",
     "text": [
      "Difficult to say. Hours, days, it depends on the subject's constitution. But death is certain? Oh yes, Your Grace, quite certain. Your daughter will die here in this cell. You will be here watching when she does. You will be here the rest of your days. If you refuse to eat we will force food down your throat. You will live to watch your daughter rot, to watch that beautiful face collapse to bone and dust all the while contemplating the choices you've made. Make sure the guards change the torches every few hours. I don't want her to miss a thing.\n",
      "[951, 3, 127, 952, 353, 10, 2700, 30, 1, 3689, 3690, 34, 302, 13, 888, 165, 107, 8, 86, 324, 888, 8, 598, 29, 146, 47, 12, 33, 889, 2, 29, 21, 47, 689, 60, 43, 159, 2, 29, 21, 47, 1, 291, 7, 8, 353, 36, 2, 953, 3, 512, 17, 29, 724, 584, 132, 8, 890, 2, 29, 307, 3, 226, 8, 598, 1869, 3, 226, 16, 469, 281, 1870, 3, 1871, 6, 2701, 37, 1, 299, 3691, 1, 1872, 136, 197, 103, 210, 1, 891, 1034, 1, 3692, 160, 389, 952, 4, 28, 52, 31, 3, 1035, 5, 206]\n",
      "[ 951    3  127  952  353   10 2700   30    1 3689 3690   34  302   13\n",
      "  888  165  107    8   86  324  888    8  598   29  146   47   12   33\n",
      "  889    2   29   21   47  689   60   43  159    2   29   21   47    1\n",
      "  291    7    8  353   36    2  953    3  512   17   29  724  584  132\n",
      "    8  890    2   29  307    3  226    8  598 1869    3  226   16  469\n",
      "  281 1870    3 1871    6 2701   37    1  299 3691    1 1872  136  197\n",
      "  103  210    1  891 1034    1 3692  160  389  952    4   28   52   31\n",
      "    3 1035    5  206    0    0    0    0    0    0    0    0    0    0\n",
      "    0    0    0    0    0    0    0    0    0    0    0    0    0    0\n",
      "    0    0    0    0    0    0    0    0    0    0    0    0    0    0\n",
      "    0    0    0    0    0    0    0    0    0    0    0    0    0    0\n",
      "    0    0    0    0    0    0    0    0    0    0    0    0    0    0\n",
      "    0    0    0    0    0    0    0    0    0    0    0    0    0    0\n",
      "    0    0    0    0    0    0    0    0    0    0    0    0    0    0\n",
      "    0    0    0    0    0    0    0    0    0    0    0    0    0    0\n",
      "    0    0    0    0    0    0    0    0    0    0    0    0    0    0\n",
      "    0    0    0    0    0    0    0    0    0    0    0    0    0    0\n",
      "    0    0    0    0    0    0    0    0    0    0    0    0    0    0\n",
      "    0    0    0    0    0    0    0    0    0    0    0    0    0    0\n",
      "    0    0    0    0    0    0    0    0    0    0    0    0    0    0\n",
      "    0    0    0    0    0    0    0    0    0    0    0    0    0    0\n",
      "    0    0    0    0    0    0    0    0    0    0    0    0    0    0\n",
      "    0    0    0    0    0    0    0    0    0    0    0    0    0    0\n",
      "    0    0    0    0    0    0    0    0    0    0    0    0    0    0\n",
      "    0    0    0    0    0    0    0    0    0    0    0    0    0    0\n",
      "    0    0    0    0    0    0    0    0    0    0    0    0    0    0\n",
      "    0    0    0    0    0    0    0    0    0    0    0    0    0    0\n",
      "    0    0    0    0    0    0    0    0    0    0    0    0    0    0\n",
      "    0    0    0    0    0    0    0    0    0    0    0]\n"
     ]
    }
   ],
   "source": [
    "# inspect\n",
    "print(X_train[1])\n",
    "print(X_train_toks[1])\n",
    "print(X_train_pad[1])"
   ]
  },
  {
   "cell_type": "markdown",
   "metadata": {},
   "source": [
    "## Install glove"
   ]
  },
  {
   "cell_type": "code",
   "execution_count": null,
   "metadata": {},
   "outputs": [],
   "source": [
    "!wget http://nlp.stanford.edu/data/glove.6B.zip\n",
    "!unzip -q glove.6B.zip"
   ]
  },
  {
   "cell_type": "markdown",
   "metadata": {},
   "source": [
    "## Using deep learning with pretrained ```GloVe``` embedding"
   ]
  },
  {
   "cell_type": "code",
   "execution_count": 212,
   "metadata": {},
   "outputs": [],
   "source": [
    "embedding_dim = 50\n",
    "\n",
    "embedding_matrix = create_embedding_matrix('glove.6B.50d.txt',\n",
    "                                           tokenizer.word_index, \n",
    "                                           embedding_dim)\n",
    "\n",
    "# create embedding matrix with the words that appear in the data.\n",
    "# We use the embedding matrix as weights (pretrained word embeddings rather than just learning weights from our own data)"
   ]
  },
  {
   "cell_type": "markdown",
   "metadata": {},
   "source": [
    "create regularizer"
   ]
  },
  {
   "cell_type": "code",
   "execution_count": 213,
   "metadata": {},
   "outputs": [],
   "source": [
    "l2 = L2(0.0001)"
   ]
  },
  {
   "cell_type": "code",
   "execution_count": 214,
   "metadata": {},
   "outputs": [
    {
     "name": "stdout",
     "output_type": "stream",
     "text": [
      "Model: \"sequential_7\"\n",
      "_________________________________________________________________\n",
      "Layer (type)                 Output Shape              Param #   \n",
      "=================================================================\n",
      "embedding_5 (Embedding)      (None, 403, 50)           324450    \n",
      "_________________________________________________________________\n",
      "conv1d_5 (Conv1D)            (None, 399, 128)          32128     \n",
      "_________________________________________________________________\n",
      "global_max_pooling1d_5 (Glob (None, 128)               0         \n",
      "_________________________________________________________________\n",
      "dense_14 (Dense)             (None, 32)                4128      \n",
      "_________________________________________________________________\n",
      "dense_15 (Dense)             (None, 8)                 264       \n",
      "=================================================================\n",
      "Total params: 360,970\n",
      "Trainable params: 360,970\n",
      "Non-trainable params: 0\n",
      "_________________________________________________________________\n"
     ]
    }
   ],
   "source": [
    "# New model\n",
    "model = Sequential()\n",
    "\n",
    "# Embedding -> CONV+ReLU -> MaxPool -> FC+ReLU -> Out\n",
    "model.add(Embedding(vocab_size,                  # vocab size from Tokenizer()\n",
    "                    embedding_dim,               # embedding input layer size\n",
    "                    weights=[embedding_matrix],  # pretrained embeddings\n",
    "                    input_length=maxlen,         # maxlen of padded doc\n",
    "                    trainable=True))             # trainable embeddings\n",
    "\n",
    "model.add(Conv1D(128, 5, # added at teh convolutional layer\n",
    "                activation='relu',\n",
    "                kernel_regularizer=l2))          # L2 regularization \n",
    "model.add(GlobalMaxPool1D())\n",
    "model.add(Dense(32, activation='relu', kernel_regularizer=l2))\n",
    "model.add(Dense(8, activation='softmax'))\n",
    "\n",
    "# compile\n",
    "model.compile(loss='categorical_crossentropy',\n",
    "              optimizer=\"adam\",\n",
    "              metrics=['accuracy'])\n",
    "\n",
    "# print summary\n",
    "model.summary()"
   ]
  },
  {
   "cell_type": "code",
   "execution_count": null,
   "metadata": {},
   "outputs": [],
   "source": []
  },
  {
   "cell_type": "code",
   "execution_count": 215,
   "metadata": {},
   "outputs": [
    {
     "name": "stdout",
     "output_type": "stream",
     "text": [
      "Training Accuracy: 1.0000\n",
      "Testing Accuracy:  0.2364\n"
     ]
    },
    {
     "data": {
      "image/png": "[encoded data removed]",
      "text/plain": [
       "<Figure size 432x288 with 1 Axes>"
      ]
     },
     "metadata": {},
     "output_type": "display_data"
    }
   ],
   "source": [
    "history = model.fit(X_train_pad, y_train,\n",
    "                    epochs=20,\n",
    "                    verbose=False,\n",
    "                    validation_data=(X_test_pad, y_test),\n",
    "                    batch_size=10)\n",
    "\n",
    "# evaluate \n",
    "loss, accuracy = model.evaluate(X_train_pad, y_train, verbose=False)\n",
    "print(\"Training Accuracy: {:.4f}\".format(accuracy))\n",
    "loss, accuracy = model.evaluate(X_test_pad, y_test, verbose=False)\n",
    "print(\"Testing Accuracy:  {:.4f}\".format(accuracy))\n",
    "\n",
    "# plot\n",
    "plot_history(history, epochs = 20)"
   ]
  },
  {
   "cell_type": "markdown",
   "metadata": {},
   "source": []
  },
  {
   "cell_type": "code",
   "execution_count": null,
   "metadata": {},
   "outputs": [],
   "source": []
  },
  {
   "cell_type": "code",
   "execution_count": null,
   "metadata": {},
   "outputs": [],
   "source": []
  },
  {
   "cell_type": "code",
   "execution_count": null,
   "metadata": {},
   "outputs": [],
   "source": []
  },
  {
   "cell_type": "markdown",
   "metadata": {},
   "source": []
  },
  {
   "cell_type": "markdown",
   "metadata": {},
   "source": []
  },
  {
   "cell_type": "code",
   "execution_count": null,
   "metadata": {},
   "outputs": [],
   "source": []
  },
  {
   "cell_type": "code",
   "execution_count": null,
   "metadata": {},
   "outputs": [],
   "source": []
  },
  {
   "cell_type": "code",
   "execution_count": null,
   "metadata": {},
   "outputs": [],
   "source": []
  }
 ],
 "metadata": {
  "kernelspec": {
   "display_name": "DeepLearning_env",
   "language": "python",
   "name": "deeplearning_env"
  },
  "language_info": {
   "codemirror_mode": {
    "name": "ipython",
    "version": 3
   },
   "file_extension": ".py",
   "mimetype": "text/x-python",
   "name": "python",
   "nbconvert_exporter": "python",
   "pygments_lexer": "ipython3",
   "version": "3.6.9"
  }
 },
 "nbformat": 4,
 "nbformat_minor": 4
}
