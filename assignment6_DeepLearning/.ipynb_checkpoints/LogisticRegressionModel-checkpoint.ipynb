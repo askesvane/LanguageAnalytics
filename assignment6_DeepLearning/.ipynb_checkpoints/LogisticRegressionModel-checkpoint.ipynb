{
 "cells": [
  {
   "cell_type": "markdown",
   "metadata": {},
   "source": [
    "## Assignment 6 - text classification using deep learning "
   ]
  },
  {
   "cell_type": "markdown",
   "metadata": {},
   "source": [
    "In class this week, we've seen how deep learning models like CNNs can be used for text classification purposes. For your assignment this week, I want you to see how successfully you can use these kind of models to classify a specific kind of cultural data - scripts from the TV series Game of Thrones.\n",
    "\n",
    "In particular, I want you to see how accurately you can model the relationship between each season and the lines spoken. That is to say - can you predict which season a line comes from? Or to phrase that another way, is dialogue a good predictor of season?\n",
    "\n",
    "Start by making a baseline using a 'classical' ML solution such as CountVectorization + LogisticRegression and use this as a means of evaluating how well your model performs. Then you should try to come up with a solution which uses a DL model, such as the CNNs we went over in class."
   ]
  },
  {
   "cell_type": "markdown",
   "metadata": {},
   "source": [
    "__A 'classical' ML solution such as CountVectorization + LogisticRegression__"
   ]
  },
  {
   "cell_type": "markdown",
   "metadata": {},
   "source": [
    "Import packages "
   ]
  },
  {
   "cell_type": "code",
   "execution_count": 213,
   "metadata": {},
   "outputs": [],
   "source": [
    "# system tools\n",
    "import os\n",
    "import sys\n",
    "sys.path.append(os.path.join(\"..\"))\n",
    "\n",
    "# data munging tools\n",
    "import pandas as pd\n",
    "import numpy as np\n",
    "from itertools import repeat\n",
    "import itertools\n",
    "\n",
    "# Machine learning stuff\n",
    "from sklearn.model_selection import train_test_split\n",
    "from sklearn.feature_extraction.text import CountVectorizer, TfidfVectorizer\n",
    "from sklearn.linear_model import LogisticRegression\n",
    "from sklearn import metrics\n",
    "\n",
    "# Visualisation\n",
    "import matplotlib.pyplot as plt\n",
    "import seaborn as sns"
   ]
  },
  {
   "cell_type": "markdown",
   "metadata": {},
   "source": [
    "Functions"
   ]
  },
  {
   "cell_type": "code",
   "execution_count": 214,
   "metadata": {},
   "outputs": [],
   "source": [
    "# Show the most informative features\n",
    "def show_features(vectorizer, training_labels, classifier, n=20):\n",
    "    \"\"\"\n",
    "    Return the most informative features from a classifier, i.e. the 'strongest' predictors.\n",
    "    \n",
    "    vectorizer:\n",
    "        A vectorizer defined by the user, e.g. 'CountVectorizer'\n",
    "    classifier:\n",
    "        A classifier defined by the user, e.g. 'MultinomialNB'\n",
    "    n:\n",
    "        Number of features to display, defaults to 20\n",
    "        \n",
    "    \"\"\"\n",
    "    # Get feature names and coefficients\n",
    "    feature_names = vectorizer.get_feature_names()\n",
    "    coefs_with_fns = sorted(zip(classifier.coef_[0], feature_names))\n",
    "    # Get ordered labels\n",
    "    labels = sorted(set(training_labels))\n",
    "    # Select top n results, where n is function argument\n",
    "    top = zip(coefs_with_fns[:n], coefs_with_fns[:-(n + 1):-1])\n",
    "    # Pretty print columns showing most informative features\n",
    "    print(f\"{labels[0]}\\t\\t\\t\\t{labels[1]}\\n\")\n",
    "    for (coef_1, fn_1), (coef_2, fn_2) in top:\n",
    "        for (coef_1, fn_1), (coef_2, fn_2) in top:\n",
    "            print(\"%.4f\\t%-15s\\t\\t%.4f\\t%-15s\" % (coef_1, fn_1, coef_2, fn_2))\n",
    "\n",
    "    return None\n",
    "\n",
    "# Balance data \n",
    "\"\"\"\n",
    "Function to balance data.\n",
    "dataframe = df to be balanced\n",
    "colname = column with labels the data should be balanced according to\n",
    "n = row per label\n",
    "\"\"\"\n",
    "def balance(dataframe, colname, n=500):\n",
    "\n",
    "    # Use pandas select a random bunch of examples from each label\n",
    "    out = (dataframe.groupby(colname, as_index=False)\n",
    "            .apply(lambda x: x.sample(n=n))\n",
    "            .reset_index(drop=True))\n",
    "    \n",
    "    return out\n",
    "\n",
    "\n",
    "# Create heatmap visualisation\n",
    "def plot_cm(y_test, y_pred, normalized:bool):\n",
    "    \"\"\"\n",
    "    Plot confusion matrix\n",
    "    \"\"\"\n",
    "    if normalized == False:\n",
    "        cm = pd.crosstab(y_test, y_pred, \n",
    "                            rownames=['Actual'], colnames=['Predicted'])\n",
    "        p = plt.figure(figsize=(10,10));\n",
    "        p = sns.heatmap(cm, annot=True, fmt=\"d\", cbar=False)\n",
    "    elif normalized == True:\n",
    "        cm = pd.crosstab(y_test, y_pred, \n",
    "                               rownames=['Actual'], colnames=['Predicted'], normalize='index')\n",
    "        p = plt.figure(figsize=(10,10));\n",
    "        p = sns.heatmap(cm, annot=True, fmt=\".2f\", cbar=False)\n",
    "\n",
    "        return None"
   ]
  },
  {
   "cell_type": "markdown",
   "metadata": {},
   "source": [
    "Reading in the data"
   ]
  },
  {
   "cell_type": "code",
   "execution_count": 215,
   "metadata": {},
   "outputs": [],
   "source": [
    "# Read the data as 'DATA' from the data folder\n",
    "filename = os.path.join(\"data\", \"Game_of_Thrones_Script.csv\")\n",
    "DATA = pd.read_csv(filename, index_col=0)"
   ]
  },
  {
   "cell_type": "code",
   "execution_count": 216,
   "metadata": {},
   "outputs": [
    {
     "data": {
      "text/html": [
       "<div>\n",
       "<style scoped>\n",
       "    .dataframe tbody tr th:only-of-type {\n",
       "        vertical-align: middle;\n",
       "    }\n",
       "\n",
       "    .dataframe tbody tr th {\n",
       "        vertical-align: top;\n",
       "    }\n",
       "\n",
       "    .dataframe thead th {\n",
       "        text-align: right;\n",
       "    }\n",
       "</style>\n",
       "<table border=\"1\" class=\"dataframe\">\n",
       "  <thead>\n",
       "    <tr style=\"text-align: right;\">\n",
       "      <th></th>\n",
       "      <th>Season</th>\n",
       "      <th>Episode</th>\n",
       "      <th>Episode Title</th>\n",
       "      <th>Name</th>\n",
       "      <th>Sentence</th>\n",
       "    </tr>\n",
       "    <tr>\n",
       "      <th>Release Date</th>\n",
       "      <th></th>\n",
       "      <th></th>\n",
       "      <th></th>\n",
       "      <th></th>\n",
       "      <th></th>\n",
       "    </tr>\n",
       "  </thead>\n",
       "  <tbody>\n",
       "    <tr>\n",
       "      <th>2013-06-09</th>\n",
       "      <td>Season 3</td>\n",
       "      <td>Episode 10</td>\n",
       "      <td>Mhysa</td>\n",
       "      <td>stannis baratheon</td>\n",
       "      <td>You don't deny it?</td>\n",
       "    </tr>\n",
       "    <tr>\n",
       "      <th>2019-04-21</th>\n",
       "      <td>Season 8</td>\n",
       "      <td>Episode 2</td>\n",
       "      <td>A Knight of the Seven Kingdoms</td>\n",
       "      <td>man</td>\n",
       "      <td>Form up! Get yourselves back!</td>\n",
       "    </tr>\n",
       "    <tr>\n",
       "      <th>2014-05-11</th>\n",
       "      <td>Season 4</td>\n",
       "      <td>Episode 6</td>\n",
       "      <td>The Laws of Gods and Men</td>\n",
       "      <td>hizdahr</td>\n",
       "      <td>My father spoke out against crucifying those c...</td>\n",
       "    </tr>\n",
       "    <tr>\n",
       "      <th>2013-04-07</th>\n",
       "      <td>Season 3</td>\n",
       "      <td>Episode 2</td>\n",
       "      <td>Dark Wings, Dark Words</td>\n",
       "      <td>joffrey lannister</td>\n",
       "      <td>You no longer belong to him. Do you want to ho...</td>\n",
       "    </tr>\n",
       "    <tr>\n",
       "      <th>2015-05-24</th>\n",
       "      <td>Season 5</td>\n",
       "      <td>Episode 7</td>\n",
       "      <td>The Gift</td>\n",
       "      <td>sparrow</td>\n",
       "      <td>Huh.</td>\n",
       "    </tr>\n",
       "    <tr>\n",
       "      <th>2019-04-21</th>\n",
       "      <td>Season 8</td>\n",
       "      <td>Episode 2</td>\n",
       "      <td>A Knight of the Seven Kingdoms</td>\n",
       "      <td>jaime lannister</td>\n",
       "      <td>You really think any of us are going to sleep ...</td>\n",
       "    </tr>\n",
       "    <tr>\n",
       "      <th>2017-08-13</th>\n",
       "      <td>Season 7</td>\n",
       "      <td>Episode 5</td>\n",
       "      <td>Eastwatch</td>\n",
       "      <td>daenerys targaryen</td>\n",
       "      <td>I know what Cersei has told you, that I've com...</td>\n",
       "    </tr>\n",
       "    <tr>\n",
       "      <th>2016-05-15</th>\n",
       "      <td>Season 6</td>\n",
       "      <td>Episode 4</td>\n",
       "      <td>Book of the Stranger</td>\n",
       "      <td>tyrion lannister</td>\n",
       "      <td>And now you speak for the Good Masters of Asta...</td>\n",
       "    </tr>\n",
       "    <tr>\n",
       "      <th>2012-04-15</th>\n",
       "      <td>Season 2</td>\n",
       "      <td>Episode 3</td>\n",
       "      <td>What Is Dead May Never Die</td>\n",
       "      <td>gendry baratheon</td>\n",
       "      <td>Get up.</td>\n",
       "    </tr>\n",
       "    <tr>\n",
       "      <th>2017-08-20</th>\n",
       "      <td>Season 7</td>\n",
       "      <td>Episode 6</td>\n",
       "      <td>Beyond the Wall</td>\n",
       "      <td>sansa stark</td>\n",
       "      <td>You never would have survived what I survived.</td>\n",
       "    </tr>\n",
       "  </tbody>\n",
       "</table>\n",
       "</div>"
      ],
      "text/plain": [
       "                Season     Episode                   Episode Title  \\\n",
       "Release Date                                                         \n",
       "2013-06-09    Season 3  Episode 10                           Mhysa   \n",
       "2019-04-21    Season 8   Episode 2  A Knight of the Seven Kingdoms   \n",
       "2014-05-11    Season 4   Episode 6        The Laws of Gods and Men   \n",
       "2013-04-07    Season 3   Episode 2          Dark Wings, Dark Words   \n",
       "2015-05-24    Season 5   Episode 7                        The Gift   \n",
       "2019-04-21    Season 8   Episode 2  A Knight of the Seven Kingdoms   \n",
       "2017-08-13    Season 7   Episode 5                       Eastwatch   \n",
       "2016-05-15    Season 6   Episode 4            Book of the Stranger   \n",
       "2012-04-15    Season 2   Episode 3      What Is Dead May Never Die   \n",
       "2017-08-20    Season 7   Episode 6                 Beyond the Wall   \n",
       "\n",
       "                            Name  \\\n",
       "Release Date                       \n",
       "2013-06-09     stannis baratheon   \n",
       "2019-04-21                   man   \n",
       "2014-05-11               hizdahr   \n",
       "2013-04-07     joffrey lannister   \n",
       "2015-05-24               sparrow   \n",
       "2019-04-21       jaime lannister   \n",
       "2017-08-13    daenerys targaryen   \n",
       "2016-05-15      tyrion lannister   \n",
       "2012-04-15      gendry baratheon   \n",
       "2017-08-20           sansa stark   \n",
       "\n",
       "                                                       Sentence  \n",
       "Release Date                                                     \n",
       "2013-06-09                                   You don't deny it?  \n",
       "2019-04-21                        Form up! Get yourselves back!  \n",
       "2014-05-11    My father spoke out against crucifying those c...  \n",
       "2013-04-07    You no longer belong to him. Do you want to ho...  \n",
       "2015-05-24                                                 Huh.  \n",
       "2019-04-21    You really think any of us are going to sleep ...  \n",
       "2017-08-13    I know what Cersei has told you, that I've com...  \n",
       "2016-05-15    And now you speak for the Good Masters of Asta...  \n",
       "2012-04-15                                              Get up.  \n",
       "2017-08-20       You never would have survived what I survived.  "
      ]
     },
     "execution_count": 216,
     "metadata": {},
     "output_type": "execute_result"
    }
   ],
   "source": [
    "#inspect the data \n",
    "DATA.sample(10)"
   ]
  },
  {
   "cell_type": "code",
   "execution_count": null,
   "metadata": {},
   "outputs": [],
   "source": []
  },
  {
   "cell_type": "code",
   "execution_count": 217,
   "metadata": {},
   "outputs": [
    {
     "data": {
      "text/plain": [
       "Season 2    3914\n",
       "Season 3    3573\n",
       "Season 4    3446\n",
       "Season 1    3179\n",
       "Season 5    3035\n",
       "Season 6    2856\n",
       "Season 7    2442\n",
       "Season 8    1466\n",
       "Name: Season, dtype: int64"
      ]
     },
     "execution_count": 217,
     "metadata": {},
     "output_type": "execute_result"
    }
   ],
   "source": [
    "# Check the amount of lines in each season - are they balanced?\n",
    "DATA[\"Season\"].value_counts()"
   ]
  },
  {
   "cell_type": "markdown",
   "metadata": {},
   "source": [
    "Create balanced data - sample 1466 from each season (as 1466 is the amount of lines in the season with fewest)"
   ]
  },
  {
   "cell_type": "code",
   "execution_count": null,
   "metadata": {},
   "outputs": [],
   "source": []
  },
  {
   "cell_type": "code",
   "execution_count": 218,
   "metadata": {},
   "outputs": [
    {
     "data": {
      "text/plain": [
       "Season 8    1466\n",
       "Season 2    1466\n",
       "Season 4    1466\n",
       "Season 6    1466\n",
       "Season 3    1466\n",
       "Season 1    1466\n",
       "Season 7    1466\n",
       "Season 5    1466\n",
       "Name: Season, dtype: int64"
      ]
     },
     "execution_count": 218,
     "metadata": {},
     "output_type": "execute_result"
    }
   ],
   "source": [
    "DATA_balanced = balance(DATA, \"Season\", 1466)\n",
    "DATA_balanced[\"Season\"].value_counts()"
   ]
  },
  {
   "cell_type": "code",
   "execution_count": 102,
   "metadata": {},
   "outputs": [],
   "source": [
    "# I create two new variable extracting the data from the df so we can work with them\n",
    "sentence = DATA_balanced[\"Sentence\"]\n",
    "season = DATA_balanced[\"Season\"]"
   ]
  },
  {
   "cell_type": "markdown",
   "metadata": {},
   "source": [
    "__Preprocess the data__ <br> In order to do an appropriate vectorisation, I need to bundle together multiple lines. Some of them are simply way too short. For each season, have bundle of multiple words then vectorised."
   ]
  },
  {
   "cell_type": "code",
   "execution_count": 219,
   "metadata": {},
   "outputs": [],
   "source": [
    "seasons = DATA_balanced.Season.unique()\n",
    "\n",
    "text = []\n",
    "labels = []"
   ]
  },
  {
   "cell_type": "code",
   "execution_count": 220,
   "metadata": {},
   "outputs": [],
   "source": [
    "for i in seasons:\n",
    "    season = DATA[DATA[\"Season\"] == i]  \n",
    "    \n",
    "    sentences = season[\"Sentence\"]\n",
    "    \n",
    "    chunks = []\n",
    "    for w in range(0, len(sentences), 20):\n",
    "        chunks.append(' '.join(sentences[w:w+20]))\n",
    "    \n",
    "    labels.extend(repeat(i, len(chunks)))\n",
    "    text.append(chunks)\n",
    "\n",
    "text = list(itertools.chain(*text))"
   ]
  },
  {
   "cell_type": "markdown",
   "metadata": {},
   "source": [
    "Train-test split"
   ]
  },
  {
   "cell_type": "code",
   "execution_count": 221,
   "metadata": {},
   "outputs": [],
   "source": [
    "X_train, X_test, y_train, y_test = train_test_split(text,        # sentences for the model\n",
    "                                                    labels,          # classification labels (seasons)\n",
    "                                                    test_size=0.2,   # create an 80/20 split\n",
    "                                                    random_state=42) # random state for reproducibility"
   ]
  },
  {
   "cell_type": "code",
   "execution_count": null,
   "metadata": {},
   "outputs": [],
   "source": []
  },
  {
   "cell_type": "markdown",
   "metadata": {},
   "source": [
    "Vectorizing and feature extraction\n",
    "- change the sentences into numeric representations so we can feed them into the model \n",
    "- vectorizing --> bag-of-words"
   ]
  },
  {
   "cell_type": "code",
   "execution_count": 222,
   "metadata": {},
   "outputs": [],
   "source": [
    "# Create vector object\n",
    "vectorizer = TfidfVectorizer(ngram_range = (1,2),     # unigrams and bigrams (1 word and 2 word units)\n",
    "                             lowercase =  True,       # should not be sensitive to capital letters\n",
    "                             max_df = 0.95,           # remove very common words\n",
    "                             min_df = 0.05,           # remove very rare words\n",
    "                             max_features = 500)      # keep only top features"
   ]
  },
  {
   "cell_type": "markdown",
   "metadata": {},
   "source": [
    "I use this vectorizer to turn all sentences in the data into vectors of numbers"
   ]
  },
  {
   "cell_type": "code",
   "execution_count": 223,
   "metadata": {},
   "outputs": [],
   "source": [
    "# Both for train and test data\n",
    "X_train_feats = vectorizer.fit_transform(X_train)\n",
    "X_test_feats = vectorizer.transform(X_test)\n",
    "# List of feature names. \n",
    "feature_names = vectorizer.get_feature_names()"
   ]
  },
  {
   "cell_type": "code",
   "execution_count": 224,
   "metadata": {},
   "outputs": [
    {
     "data": {
      "text/plain": [
       "240"
      ]
     },
     "execution_count": 224,
     "metadata": {},
     "output_type": "execute_result"
    }
   ],
   "source": [
    "len(y_test)"
   ]
  },
  {
   "cell_type": "markdown",
   "metadata": {},
   "source": [
    "Classifying and predicting"
   ]
  },
  {
   "cell_type": "code",
   "execution_count": 225,
   "metadata": {},
   "outputs": [],
   "source": [
    "classifier = LogisticRegression(random_state=42).fit(X_train_feats, y_train)"
   ]
  },
  {
   "cell_type": "code",
   "execution_count": 226,
   "metadata": {},
   "outputs": [],
   "source": [
    "y_pred = classifier.predict(X_test_feats)"
   ]
  },
  {
   "cell_type": "code",
   "execution_count": 227,
   "metadata": {},
   "outputs": [
    {
     "name": "stdout",
     "output_type": "stream",
     "text": [
      "Season 1\t\t\t\tSeason 2\n",
      "\n",
      "-0.8585\tmade           \t\t1.8823\tboy            \n",
      "-0.8479\tcersei         \t\t1.3840\tthe king       \n",
      "-0.8216\tway            \t\t1.3826\tlord           \n",
      "-0.8079\twho            \t\t1.2724\thonor          \n",
      "-0.7668\tin             \t\t1.2208\trobert         \n",
      "-0.7407\tour            \t\t1.1966\tyears          \n",
      "-0.7289\twe             \t\t1.0845\tis             \n",
      "-0.7174\tjon snow       \t\t1.0672\tstark          \n",
      "-0.6986\tsafe           \t\t1.0580\tsword          \n",
      "-0.6778\tmay            \t\t1.0083\tyou will       \n",
      "-0.6706\tcastle         \t\t0.9513\tstill          \n",
      "-0.6511\tpeople         \t\t0.9276\tmy lord        \n",
      "-0.6446\tover           \t\t0.9137\thand           \n",
      "-0.6373\tcourse         \t\t0.9051\tking           \n",
      "-0.6255\tof course      \t\t0.8707\twas            \n",
      "-0.6013\tand            \t\t0.8343\twhat           \n",
      "-0.5890\tjon            \t\t0.8255\tmy             \n",
      "-0.5850\tdidn           \t\t0.8180\thim            \n",
      "-0.5828\tcity           \t\t0.7867\tbrother        \n"
     ]
    }
   ],
   "source": [
    "show_features(vectorizer, y_train, classifier, n=20)"
   ]
  },
  {
   "cell_type": "markdown",
   "metadata": {},
   "source": [
    "Evaluate"
   ]
  },
  {
   "cell_type": "code",
   "execution_count": 228,
   "metadata": {},
   "outputs": [
    {
     "name": "stdout",
     "output_type": "stream",
     "text": [
      "              precision    recall  f1-score   support\n",
      "\n",
      "    Season 1       0.31      0.37      0.34        30\n",
      "    Season 2       0.36      0.35      0.35        46\n",
      "    Season 3       0.18      0.26      0.21        35\n",
      "    Season 4       0.17      0.25      0.20        32\n",
      "    Season 5       0.21      0.12      0.16        32\n",
      "    Season 6       0.35      0.28      0.31        32\n",
      "    Season 7       0.56      0.50      0.53        18\n",
      "    Season 8       1.00      0.13      0.24        15\n",
      "\n",
      "    accuracy                           0.28       240\n",
      "   macro avg       0.39      0.28      0.29       240\n",
      "weighted avg       0.34      0.28      0.28       240\n",
      "\n"
     ]
    }
   ],
   "source": [
    "classifier_metrics = metrics.classification_report(y_test, y_pred)\n",
    "print(classifier_metrics)"
   ]
  },
  {
   "cell_type": "code",
   "execution_count": null,
   "metadata": {},
   "outputs": [],
   "source": []
  },
  {
   "cell_type": "code",
   "execution_count": null,
   "metadata": {},
   "outputs": [],
   "source": []
  },
  {
   "cell_type": "markdown",
   "metadata": {},
   "source": [
    "__To do__ <br> Find out why the plot below looks so strange - only 15 season 8 chunks and many 0's in the right side"
   ]
  },
  {
   "cell_type": "code",
   "execution_count": 229,
   "metadata": {},
   "outputs": [
    {
     "data": {
      "image/png": "[encoded data removed]",
      "text/plain": [
       "<Figure size 720x720 with 1 Axes>"
      ]
     },
     "metadata": {
      "needs_background": "light"
     },
     "output_type": "display_data"
    }
   ],
   "source": [
    "y_test = pd.Series(y_test)\n",
    "plot_cm(y_test, y_pred, normalized=False)"
   ]
  },
  {
   "cell_type": "code",
   "execution_count": null,
   "metadata": {},
   "outputs": [],
   "source": []
  }
 ],
 "metadata": {
  "kernelspec": {
   "display_name": "DeepLearning_env",
   "language": "python",
   "name": "deeplearning_env"
  },
  "language_info": {
   "codemirror_mode": {
    "name": "ipython",
    "version": 3
   },
   "file_extension": ".py",
   "mimetype": "text/x-python",
   "name": "python",
   "nbconvert_exporter": "python",
   "pygments_lexer": "ipython3",
   "version": "3.6.9"
  }
 },
 "nbformat": 4,
 "nbformat_minor": 4
}
