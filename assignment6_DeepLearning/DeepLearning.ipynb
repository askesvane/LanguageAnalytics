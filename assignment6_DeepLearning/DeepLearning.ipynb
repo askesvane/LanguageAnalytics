{
 "cells": [
  {
   "cell_type": "markdown",
   "metadata": {},
   "source": [
    "## Assignment 6 - text classification using deep learning "
   ]
  },
  {
   "cell_type": "markdown",
   "metadata": {},
   "source": [
    "In class this week, we've seen how deep learning models like CNNs can be used for text classification purposes. For your assignment this week, I want you to see how successfully you can use these kind of models to classify a specific kind of cultural data - scripts from the TV series Game of Thrones.\n",
    "\n",
    "In particular, I want you to see how accurately you can model the relationship between each season and the lines spoken. That is to say - can you predict which season a line comes from? Or to phrase that another way, is dialogue a good predictor of season?\n",
    "\n",
    "Start by making a baseline using a 'classical' ML solution such as CountVectorization + LogisticRegression and use this as a means of evaluating how well your model performs. Then you should try to come up with a solution which uses a DL model, such as the CNNs we went over in class."
   ]
  },
  {
   "cell_type": "markdown",
   "metadata": {},
   "source": [
    "__A 'classical' ML solution such as CountVectorization + LogisticRegression__"
   ]
  },
  {
   "cell_type": "markdown",
   "metadata": {},
   "source": [
    "Import packages "
   ]
  },
  {
   "cell_type": "code",
   "execution_count": 186,
   "metadata": {},
   "outputs": [],
   "source": [
    "# system tools\n",
    "import os\n",
    "import sys\n",
    "sys.path.append(os.path.join(\"..\"))\n",
    "\n",
    "# data munging tools\n",
    "import pandas as pd\n",
    "import numpy as np\n",
    "from itertools import repeat\n",
    "import itertools\n",
    "\n",
    "# Machine learning stuff\n",
    "from sklearn.model_selection import train_test_split\n",
    "from sklearn.feature_extraction.text import CountVectorizer, TfidfVectorizer\n",
    "from sklearn.linear_model import LogisticRegression\n",
    "from sklearn import metrics\n",
    "\n",
    "# Visualisation\n",
    "import matplotlib.pyplot as plt\n",
    "import seaborn as sns"
   ]
  },
  {
   "cell_type": "markdown",
   "metadata": {},
   "source": [
    "Functions"
   ]
  },
  {
   "cell_type": "code",
   "execution_count": 202,
   "metadata": {},
   "outputs": [],
   "source": [
    "# Show the most informative features\n",
    "def show_features(vectorizer, training_labels, classifier, n=20):\n",
    "    \"\"\"\n",
    "    Return the most informative features from a classifier, i.e. the 'strongest' predictors.\n",
    "    \n",
    "    vectorizer:\n",
    "        A vectorizer defined by the user, e.g. 'CountVectorizer'\n",
    "    classifier:\n",
    "        A classifier defined by the user, e.g. 'MultinomialNB'\n",
    "    n:\n",
    "        Number of features to display, defaults to 20\n",
    "        \n",
    "    \"\"\"\n",
    "    # Get feature names and coefficients\n",
    "    feature_names = vectorizer.get_feature_names()\n",
    "    coefs_with_fns = sorted(zip(classifier.coef_[0], feature_names))\n",
    "    # Get ordered labels\n",
    "    labels = sorted(set(training_labels))\n",
    "    # Select top n results, where n is function argument\n",
    "    top = zip(coefs_with_fns[:n], coefs_with_fns[:-(n + 1):-1])\n",
    "    # Pretty print columns showing most informative features\n",
    "    print(f\"{labels[0]}\\t\\t\\t\\t{labels[1]}\\n\")\n",
    "    for (coef_1, fn_1), (coef_2, fn_2) in top:\n",
    "        for (coef_1, fn_1), (coef_2, fn_2) in top:\n",
    "            print(\"%.4f\\t%-15s\\t\\t%.4f\\t%-15s\" % (coef_1, fn_1, coef_2, fn_2))\n",
    "\n",
    "    return None\n",
    "\n",
    "# Balance data \n",
    "\"\"\"\n",
    "Function to balance data.\n",
    "dataframe = df to be balanced\n",
    "colname = column with labels the data should be balanced according to\n",
    "n = row per label\n",
    "\"\"\"\n",
    "def balance(dataframe, colname, n=500):\n",
    "\n",
    "    # Use pandas select a random bunch of examples from each label\n",
    "    out = (dataframe.groupby(colname, as_index=False)\n",
    "            .apply(lambda x: x.sample(n=n))\n",
    "            .reset_index(drop=True))\n",
    "    \n",
    "    return out\n",
    "\n",
    "\n"
   ]
  },
  {
   "cell_type": "markdown",
   "metadata": {},
   "source": [
    "Reading in the data"
   ]
  },
  {
   "cell_type": "code",
   "execution_count": 188,
   "metadata": {},
   "outputs": [],
   "source": [
    "# Read the data as 'DATA' from the data folder\n",
    "filename = os.path.join(\"data\", \"Game_of_Thrones_Script.csv\")\n",
    "DATA = pd.read_csv(filename, index_col=0)"
   ]
  },
  {
   "cell_type": "code",
   "execution_count": 189,
   "metadata": {},
   "outputs": [
    {
     "data": {
      "text/html": [
       "<div>\n",
       "<style scoped>\n",
       "    .dataframe tbody tr th:only-of-type {\n",
       "        vertical-align: middle;\n",
       "    }\n",
       "\n",
       "    .dataframe tbody tr th {\n",
       "        vertical-align: top;\n",
       "    }\n",
       "\n",
       "    .dataframe thead th {\n",
       "        text-align: right;\n",
       "    }\n",
       "</style>\n",
       "<table border=\"1\" class=\"dataframe\">\n",
       "  <thead>\n",
       "    <tr style=\"text-align: right;\">\n",
       "      <th></th>\n",
       "      <th>Season</th>\n",
       "      <th>Episode</th>\n",
       "      <th>Episode Title</th>\n",
       "      <th>Name</th>\n",
       "      <th>Sentence</th>\n",
       "    </tr>\n",
       "    <tr>\n",
       "      <th>Release Date</th>\n",
       "      <th></th>\n",
       "      <th></th>\n",
       "      <th></th>\n",
       "      <th></th>\n",
       "      <th></th>\n",
       "    </tr>\n",
       "  </thead>\n",
       "  <tbody>\n",
       "    <tr>\n",
       "      <th>2013-04-28</th>\n",
       "      <td>Season 3</td>\n",
       "      <td>Episode 5</td>\n",
       "      <td>Kissed by Fire</td>\n",
       "      <td>tyrion lannister</td>\n",
       "      <td>I understand that.</td>\n",
       "    </tr>\n",
       "    <tr>\n",
       "      <th>2015-04-26</th>\n",
       "      <td>Season 5</td>\n",
       "      <td>Episode 3</td>\n",
       "      <td>High Sparrow</td>\n",
       "      <td>black haired prostitute</td>\n",
       "      <td>Of course you can. You're shy.</td>\n",
       "    </tr>\n",
       "    <tr>\n",
       "      <th>2014-04-13</th>\n",
       "      <td>Season 4</td>\n",
       "      <td>Episode 2</td>\n",
       "      <td>The Lion and the Rose</td>\n",
       "      <td>melisandre</td>\n",
       "      <td>And it frightened you?</td>\n",
       "    </tr>\n",
       "    <tr>\n",
       "      <th>2017-07-30</th>\n",
       "      <td>Season 7</td>\n",
       "      <td>Episode 3</td>\n",
       "      <td>The Queen’s Justice</td>\n",
       "      <td>jon snow</td>\n",
       "      <td>Am I your prisoner?</td>\n",
       "    </tr>\n",
       "    <tr>\n",
       "      <th>2019-04-14</th>\n",
       "      <td>Season 8</td>\n",
       "      <td>Episode 1</td>\n",
       "      <td>Winterfell</td>\n",
       "      <td>qyburn</td>\n",
       "      <td>Your Grace, I'm afraid I bring terrible news. ...</td>\n",
       "    </tr>\n",
       "    <tr>\n",
       "      <th>2015-05-17</th>\n",
       "      <td>Season 5</td>\n",
       "      <td>Episode 6</td>\n",
       "      <td>Unbowed, Unbent, Unbroken</td>\n",
       "      <td>cersei lannister</td>\n",
       "      <td>The King's orders. Is the King to blame for Se...</td>\n",
       "    </tr>\n",
       "    <tr>\n",
       "      <th>2017-08-27</th>\n",
       "      <td>Season 7</td>\n",
       "      <td>Episode 7</td>\n",
       "      <td>The Dragon and the Wolf</td>\n",
       "      <td>jaime lannister</td>\n",
       "      <td>Two.</td>\n",
       "    </tr>\n",
       "    <tr>\n",
       "      <th>2013-04-14</th>\n",
       "      <td>Season 3</td>\n",
       "      <td>Episode 3</td>\n",
       "      <td>Walk of Punishment</td>\n",
       "      <td>brienne</td>\n",
       "      <td>You were armed when we were taken.</td>\n",
       "    </tr>\n",
       "    <tr>\n",
       "      <th>2014-04-13</th>\n",
       "      <td>Season 4</td>\n",
       "      <td>Episode 2</td>\n",
       "      <td>The Lion and the Rose</td>\n",
       "      <td>jaime lannister</td>\n",
       "      <td>Oh!</td>\n",
       "    </tr>\n",
       "    <tr>\n",
       "      <th>2012-05-06</th>\n",
       "      <td>Season 2</td>\n",
       "      <td>Episode 6</td>\n",
       "      <td>The Old Gods and the New</td>\n",
       "      <td>meryn</td>\n",
       "      <td>I take my orders from the king.</td>\n",
       "    </tr>\n",
       "  </tbody>\n",
       "</table>\n",
       "</div>"
      ],
      "text/plain": [
       "                Season    Episode              Episode Title  \\\n",
       "Release Date                                                   \n",
       "2013-04-28    Season 3  Episode 5             Kissed by Fire   \n",
       "2015-04-26    Season 5  Episode 3               High Sparrow   \n",
       "2014-04-13    Season 4  Episode 2      The Lion and the Rose   \n",
       "2017-07-30    Season 7  Episode 3        The Queen’s Justice   \n",
       "2019-04-14    Season 8  Episode 1                 Winterfell   \n",
       "2015-05-17    Season 5  Episode 6  Unbowed, Unbent, Unbroken   \n",
       "2017-08-27    Season 7  Episode 7    The Dragon and the Wolf   \n",
       "2013-04-14    Season 3  Episode 3         Walk of Punishment   \n",
       "2014-04-13    Season 4  Episode 2      The Lion and the Rose   \n",
       "2012-05-06    Season 2  Episode 6   The Old Gods and the New   \n",
       "\n",
       "                                 Name  \\\n",
       "Release Date                            \n",
       "2013-04-28           tyrion lannister   \n",
       "2015-04-26    black haired prostitute   \n",
       "2014-04-13                 melisandre   \n",
       "2017-07-30                   jon snow   \n",
       "2019-04-14                     qyburn   \n",
       "2015-05-17           cersei lannister   \n",
       "2017-08-27            jaime lannister   \n",
       "2013-04-14                    brienne   \n",
       "2014-04-13            jaime lannister   \n",
       "2012-05-06                      meryn   \n",
       "\n",
       "                                                       Sentence  \n",
       "Release Date                                                     \n",
       "2013-04-28                                   I understand that.  \n",
       "2015-04-26                       Of course you can. You're shy.  \n",
       "2014-04-13                               And it frightened you?  \n",
       "2017-07-30                                  Am I your prisoner?  \n",
       "2019-04-14    Your Grace, I'm afraid I bring terrible news. ...  \n",
       "2015-05-17    The King's orders. Is the King to blame for Se...  \n",
       "2017-08-27                                                 Two.  \n",
       "2013-04-14                   You were armed when we were taken.  \n",
       "2014-04-13                                                  Oh!  \n",
       "2012-05-06                      I take my orders from the king.  "
      ]
     },
     "execution_count": 189,
     "metadata": {},
     "output_type": "execute_result"
    }
   ],
   "source": [
    "#inspect the data \n",
    "DATA.sample(10)"
   ]
  },
  {
   "cell_type": "code",
   "execution_count": null,
   "metadata": {},
   "outputs": [],
   "source": []
  },
  {
   "cell_type": "code",
   "execution_count": null,
   "metadata": {},
   "outputs": [],
   "source": [
    "\n"
   ]
  },
  {
   "cell_type": "markdown",
   "metadata": {},
   "source": [
    "Create balanced data - sample 1466 from each season (as 1466 is the amount of lines in the season with fewest)"
   ]
  },
  {
   "cell_type": "code",
   "execution_count": null,
   "metadata": {},
   "outputs": [],
   "source": []
  },
  {
   "cell_type": "code",
   "execution_count": null,
   "metadata": {},
   "outputs": [],
   "source": []
  },
  {
   "cell_type": "code",
   "execution_count": null,
   "metadata": {},
   "outputs": [],
   "source": []
  },
  {
   "cell_type": "markdown",
   "metadata": {},
   "source": [
    "__Preprocess the data__ <br> In order to do an appropriate vectorisation, I need to bundle together multiple lines. Some of them are simply way too short. For each season, have bundle of multiple words then vectorised."
   ]
  },
  {
   "cell_type": "code",
   "execution_count": 190,
   "metadata": {},
   "outputs": [],
   "source": [
    "# Get a list of uniques seasons (1 to 8)\n",
    "seasons = DATA.Season.unique()\n",
    "\n",
    "# Create empty list to save text chunks and corresponding labels\n",
    "text = []\n",
    "labels = []"
   ]
  },
  {
   "cell_type": "code",
   "execution_count": 191,
   "metadata": {},
   "outputs": [],
   "source": [
    "# Loop over every season and chunk 20 lines together + save season label.\n",
    "for i in seasons:\n",
    "    \n",
    "    # Get data from season\n",
    "    season = DATA[DATA[\"Season\"] == i]  \n",
    "    \n",
    "    # Get lines\n",
    "    sentences = season[\"Sentence\"]\n",
    "    \n",
    "    # Chunk 30 lines together\n",
    "    chunks = []\n",
    "    for w in range(0, len(sentences), 30):\n",
    "        chunks.append(' '.join(sentences[w:w+30]))\n",
    "    \n",
    "    # Save to lists outside the loop\n",
    "    labels.extend(repeat(i, len(chunks)))\n",
    "    text.append(chunks)\n",
    "\n",
    "# From list of lists --> to list\n",
    "text = list(itertools.chain(*text))"
   ]
  },
  {
   "cell_type": "markdown",
   "metadata": {},
   "source": [
    "Balance the data \n",
    "- I need to store the lists as a df in order to use the balance function"
   ]
  },
  {
   "cell_type": "code",
   "execution_count": 192,
   "metadata": {},
   "outputs": [],
   "source": [
    "df = pd.DataFrame()\n",
    "df[\"season\"] = labels\n",
    "df[\"line_chunks\"] = text\n",
    "\n",
    "# Get the minimum amount of line chunks for a season - balance accordingly\n",
    "min_count = df[\"season\"].value_counts().min()\n",
    "\n",
    "# Use predefined balance() function to balance amount of entrances across seasons\n",
    "balanced = balance(df, \"season\", min_count)\n",
    "\n",
    "# Extract information from the df\n",
    "line_chunks = balanced[\"line_chunks\"]\n",
    "season = balanced[\"season\"]"
   ]
  },
  {
   "cell_type": "markdown",
   "metadata": {},
   "source": [
    "Train-test split"
   ]
  },
  {
   "cell_type": "code",
   "execution_count": 193,
   "metadata": {},
   "outputs": [],
   "source": [
    "# Split the data in train and test.\n",
    "X_train, X_test, y_train, y_test = train_test_split(line_chunks,     # sentences for the model\n",
    "                                                    season,          # classification labels (seasons)\n",
    "                                                    test_size=0.3,   # create an 70/30 split\n",
    "                                                    random_state=42) # random state for reproducibility"
   ]
  },
  {
   "cell_type": "code",
   "execution_count": null,
   "metadata": {},
   "outputs": [],
   "source": []
  },
  {
   "cell_type": "markdown",
   "metadata": {},
   "source": [
    "Vectorizing and feature extraction\n",
    "- change the sentences into numeric representations so we can feed them into the model \n",
    "- vectorizing --> bag-of-words"
   ]
  },
  {
   "cell_type": "code",
   "execution_count": 194,
   "metadata": {},
   "outputs": [],
   "source": [
    "# Create vector object\n",
    "vectorizer = TfidfVectorizer(ngram_range = (1,2),     # unigrams and bigrams (1 word and 2 word units)\n",
    "                             lowercase =  True,       # should not be sensitive to capital letters\n",
    "                             max_df = 0.95,           # remove very common words\n",
    "                             min_df = 0.05,           # remove very rare words\n",
    "                             max_features = 500)      # keep only top features"
   ]
  },
  {
   "cell_type": "markdown",
   "metadata": {},
   "source": [
    "I use this vectorizer to turn all sentences in the data into vectors of numbers"
   ]
  },
  {
   "cell_type": "code",
   "execution_count": 195,
   "metadata": {},
   "outputs": [],
   "source": [
    "# Both for train and test data\n",
    "X_train_feats = vectorizer.fit_transform(X_train)\n",
    "X_test_feats = vectorizer.transform(X_test)\n",
    "# List of feature names. \n",
    "feature_names = vectorizer.get_feature_names()"
   ]
  },
  {
   "cell_type": "code",
   "execution_count": 196,
   "metadata": {},
   "outputs": [
    {
     "data": {
      "text/plain": [
       "118"
      ]
     },
     "execution_count": 196,
     "metadata": {},
     "output_type": "execute_result"
    }
   ],
   "source": [
    "len(y_test)"
   ]
  },
  {
   "cell_type": "markdown",
   "metadata": {},
   "source": [
    "Classifying and predicting"
   ]
  },
  {
   "cell_type": "code",
   "execution_count": 197,
   "metadata": {},
   "outputs": [],
   "source": [
    "classifier = LogisticRegression(random_state=42).fit(X_train_feats, y_train)"
   ]
  },
  {
   "cell_type": "code",
   "execution_count": 198,
   "metadata": {},
   "outputs": [],
   "source": [
    "y_pred = classifier.predict(X_test_feats)"
   ]
  },
  {
   "cell_type": "code",
   "execution_count": 199,
   "metadata": {},
   "outputs": [
    {
     "name": "stdout",
     "output_type": "stream",
     "text": [
      "Season 1\t\t\t\tSeason 2\n",
      "\n",
      "-0.5433\twe             \t\t0.9576\tmy             \n",
      "-0.4312\tthe north      \t\t0.7435\tson            \n",
      "-0.3990\tin             \t\t0.6999\trobert         \n",
      "-0.3733\tover           \t\t0.6756\ttell           \n",
      "-0.3549\tbecause        \t\t0.6711\tyears          \n",
      "-0.3332\tjust           \t\t0.6034\tlord           \n",
      "-0.3299\tour            \t\t0.5916\tis             \n",
      "-0.3299\tsansa          \t\t0.5879\thonor          \n",
      "-0.3275\tnorth          \t\t0.5338\tmy lord        \n",
      "-0.3248\tpeople         \t\t0.5336\this            \n",
      "-0.3055\twar            \t\t0.5018\tlife           \n",
      "-0.3042\tyour grace     \t\t0.4841\tstark          \n",
      "-0.3012\tshe            \t\t0.4766\tthing          \n",
      "-0.3004\tunsullied      \t\t0.4752\tdeath          \n",
      "-0.2920\tmade           \t\t0.4559\tyou will       \n",
      "-0.2913\tcould          \t\t0.4491\tbran           \n",
      "-0.2912\tthan           \t\t0.4350\tdothraki       \n",
      "-0.2800\tcastle         \t\t0.4342\twhite          \n",
      "-0.2782\tthat           \t\t0.4213\tof the         \n"
     ]
    }
   ],
   "source": [
    "show_features(vectorizer, y_train, classifier, n=20)"
   ]
  },
  {
   "cell_type": "markdown",
   "metadata": {},
   "source": [
    "Evaluate"
   ]
  },
  {
   "cell_type": "code",
   "execution_count": 228,
   "metadata": {},
   "outputs": [
    {
     "name": "stdout",
     "output_type": "stream",
     "text": [
      "              precision    recall  f1-score   support\n",
      "\n",
      "    Season 1       0.54      0.39      0.45        18\n",
      "    Season 2       0.60      0.17      0.26        18\n",
      "    Season 3       0.31      0.27      0.29        15\n",
      "    Season 4       0.22      0.12      0.16        16\n",
      "    Season 5       0.06      0.25      0.10         8\n",
      "    Season 6       0.45      0.29      0.36        17\n",
      "    Season 7       0.35      0.78      0.48         9\n",
      "    Season 8       0.62      0.47      0.53        17\n",
      "\n",
      "    accuracy                           0.32       118\n",
      "   macro avg       0.39      0.34      0.33       118\n",
      "weighted avg       0.43      0.32      0.34       118\n",
      "\n"
     ]
    }
   ],
   "source": [
    "classifier_metrics = metrics.classification_report(y_test, y_pred)\n",
    "print(classifier_metrics)\n",
    "\n",
    "report = metrics.classification_report(y_test, y_pred, output_dict = True)\n",
    "\n",
    "report = pd.DataFrame(report).transpose()\n",
    "report.to_csv(\"out/LRM_ClassificationReport.csv\")"
   ]
  },
  {
   "cell_type": "code",
   "execution_count": null,
   "metadata": {},
   "outputs": [],
   "source": []
  },
  {
   "cell_type": "code",
   "execution_count": 218,
   "metadata": {},
   "outputs": [],
   "source": [
    "# Create heatmap visualisation\n",
    "def plot_cm(y_test, y_pred, filename, normalized:bool):\n",
    "\n",
    "    if normalized == False:\n",
    "        cm = pd.crosstab(y_test, y_pred, \n",
    "                            rownames=['Actual'], colnames=['Predicted'])\n",
    "        p = plt.figure(figsize=(10,10));\n",
    "        p = sns.heatmap(cm, annot=True, fmt=\"d\", cbar=False)\n",
    "        plt.savefig(filename)\n",
    "    elif normalized == True:\n",
    "        cm = pd.crosstab(y_test, y_pred, \n",
    "                               rownames=['Actual'], colnames=['Predicted'], normalize='index')\n",
    "        p = plt.figure(figsize=(10,10));\n",
    "        p = sns.heatmap(cm, annot=True, fmt=\".2f\", cbar=False)\n",
    "        plt.savefig(filename)\n",
    "\n",
    "        return None"
   ]
  },
  {
   "cell_type": "markdown",
   "metadata": {},
   "source": [
    "__To do__ <br> Find out why the plot below looks so strange - only 15 season 8 chunks and many 0's in the right side"
   ]
  },
  {
   "cell_type": "code",
   "execution_count": 219,
   "metadata": {},
   "outputs": [
    {
     "data": {
      "image/png": "[encoded data removed]",
      "text/plain": [
       "<Figure size 720x720 with 1 Axes>"
      ]
     },
     "metadata": {
      "needs_background": "light"
     },
     "output_type": "display_data"
    }
   ],
   "source": [
    "y_test = pd.Series(y_test)\n",
    "plot_cm(y_test, y_pred, \"LRM_ConfusionMatrix.png\",normalized=False)"
   ]
  },
  {
   "cell_type": "code",
   "execution_count": 220,
   "metadata": {},
   "outputs": [
    {
     "ename": "AttributeError",
     "evalue": "'str' object has no attribute 'to_csv'",
     "output_type": "error",
     "traceback": [
      "\u001b[0;31m---------------------------------------------------------------------------\u001b[0m",
      "\u001b[0;31mAttributeError\u001b[0m                            Traceback (most recent call last)",
      "\u001b[0;32m<ipython-input-220-4168124ca5bb>\u001b[0m in \u001b[0;36m<module>\u001b[0;34m\u001b[0m\n\u001b[0;32m----> 1\u001b[0;31m \u001b[0mclassifier_metrics\u001b[0m\u001b[0;34m.\u001b[0m\u001b[0mto_csv\u001b[0m\u001b[0;34m(\u001b[0m\u001b[0;34m\"out/ClassificationReport.csv\"\u001b[0m\u001b[0;34m)\u001b[0m\u001b[0;34m\u001b[0m\u001b[0;34m\u001b[0m\u001b[0m\n\u001b[0m",
      "\u001b[0;31mAttributeError\u001b[0m: 'str' object has no attribute 'to_csv'"
     ]
    }
   ],
   "source": []
  }
 ],
 "metadata": {
  "kernelspec": {
   "display_name": "DeepLearning_env",
   "language": "python",
   "name": "deeplearning_env"
  },
  "language_info": {
   "codemirror_mode": {
    "name": "ipython",
    "version": 3
   },
   "file_extension": ".py",
   "mimetype": "text/x-python",
   "name": "python",
   "nbconvert_exporter": "python",
   "pygments_lexer": "ipython3",
   "version": "3.6.9"
  }
 },
 "nbformat": 4,
 "nbformat_minor": 4
}
