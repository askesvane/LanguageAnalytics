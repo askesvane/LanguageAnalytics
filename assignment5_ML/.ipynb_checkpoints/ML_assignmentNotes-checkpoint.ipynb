{
 "cells": [
  {
   "cell_type": "markdown",
   "metadata": {},
   "source": [
    "# Packages"
   ]
  },
  {
   "cell_type": "code",
   "execution_count": 92,
   "metadata": {},
   "outputs": [],
   "source": [
    "# system tools\n",
    "import os\n",
    "import sys\n",
    "sys.path.append(os.path.join(\"..\"))\n",
    "\n",
    "# data munging tools\n",
    "import pandas as pd\n",
    "import classifier_utils as clf\n",
    "\n",
    "# Machine learning stuff\n",
    "from sklearn.model_selection import train_test_split\n",
    "from sklearn.feature_extraction.text import CountVectorizer, TfidfVectorizer\n",
    "from sklearn.linear_model import LogisticRegression\n",
    "from sklearn.model_selection import ShuffleSplit\n",
    "from sklearn import metrics\n",
    "from sklearn import preprocessing\n",
    "\n",
    "# Visualisation\n",
    "import matplotlib.pyplot as plt\n",
    "import seaborn as sns"
   ]
  },
  {
   "cell_type": "markdown",
   "metadata": {},
   "source": [
    "Reading in the data"
   ]
  },
  {
   "cell_type": "code",
   "execution_count": 32,
   "metadata": {},
   "outputs": [],
   "source": [
    "filename_test = os.path.join(\"data\", \"Corona_test.csv\")\n",
    "\n",
    "DATA1 = pd.read_csv(filename_test, index_col=0)"
   ]
  },
  {
   "cell_type": "code",
   "execution_count": 33,
   "metadata": {},
   "outputs": [],
   "source": [
    "filename_train = os.path.join(\"data\", \"Corona_train.csv\")\n",
    "\n",
    "DATA2 = pd.read_csv(filename_train, index_col=0)"
   ]
  },
  {
   "cell_type": "code",
   "execution_count": 45,
   "metadata": {},
   "outputs": [],
   "source": [
    "# Merge the 2 df's\n",
    "DATA = pd.concat([DATA1, DATA2])"
   ]
  },
  {
   "cell_type": "code",
   "execution_count": 46,
   "metadata": {},
   "outputs": [
    {
     "data": {
      "text/plain": [
       "(44955, 5)"
      ]
     },
     "execution_count": 46,
     "metadata": {},
     "output_type": "execute_result"
    }
   ],
   "source": [
    "DATA.shape"
   ]
  },
  {
   "cell_type": "code",
   "execution_count": 49,
   "metadata": {},
   "outputs": [
    {
     "data": {
      "text/html": [
       "<div>\n",
       "<style scoped>\n",
       "    .dataframe tbody tr th:only-of-type {\n",
       "        vertical-align: middle;\n",
       "    }\n",
       "\n",
       "    .dataframe tbody tr th {\n",
       "        vertical-align: top;\n",
       "    }\n",
       "\n",
       "    .dataframe thead th {\n",
       "        text-align: right;\n",
       "    }\n",
       "</style>\n",
       "<table border=\"1\" class=\"dataframe\">\n",
       "  <thead>\n",
       "    <tr style=\"text-align: right;\">\n",
       "      <th></th>\n",
       "      <th>ScreenName</th>\n",
       "      <th>Location</th>\n",
       "      <th>TweetAt</th>\n",
       "      <th>OriginalTweet</th>\n",
       "      <th>Sentiment</th>\n",
       "    </tr>\n",
       "    <tr>\n",
       "      <th>UserName</th>\n",
       "      <th></th>\n",
       "      <th></th>\n",
       "      <th></th>\n",
       "      <th></th>\n",
       "      <th></th>\n",
       "    </tr>\n",
       "  </thead>\n",
       "  <tbody>\n",
       "    <tr>\n",
       "      <th>32831</th>\n",
       "      <td>77783</td>\n",
       "      <td>Ontario, Canada</td>\n",
       "      <td>05/04/2020</td>\n",
       "      <td>I have always, quietly, declined to use self-c...</td>\n",
       "      <td>Extremely Positive</td>\n",
       "    </tr>\n",
       "    <tr>\n",
       "      <th>20717</th>\n",
       "      <td>65669</td>\n",
       "      <td>Los Angeles, CA</td>\n",
       "      <td>23/03/2020</td>\n",
       "      <td>Russian Demand For Consumer Credit, Mortgages ...</td>\n",
       "      <td>Negative</td>\n",
       "    </tr>\n",
       "    <tr>\n",
       "      <th>11045</th>\n",
       "      <td>55997</td>\n",
       "      <td>NaN</td>\n",
       "      <td>19/03/2020</td>\n",
       "      <td>Bets on when albuterol inhaler prices will be ...</td>\n",
       "      <td>Positive</td>\n",
       "    </tr>\n",
       "    <tr>\n",
       "      <th>6839</th>\n",
       "      <td>51791</td>\n",
       "      <td>NaN</td>\n",
       "      <td>18/03/2020</td>\n",
       "      <td>#Saudi_Arabia cuts 2020 budget expenditure by ...</td>\n",
       "      <td>Negative</td>\n",
       "    </tr>\n",
       "    <tr>\n",
       "      <th>35985</th>\n",
       "      <td>80937</td>\n",
       "      <td>Australia</td>\n",
       "      <td>07/04/2020</td>\n",
       "      <td>PM fights for his health in intensive care as ...</td>\n",
       "      <td>Positive</td>\n",
       "    </tr>\n",
       "    <tr>\n",
       "      <th>10111</th>\n",
       "      <td>55063</td>\n",
       "      <td>750' in Elv.NW NJ</td>\n",
       "      <td>19/03/2020</td>\n",
       "      <td>Hay @GovMurphy and state of NJ , the gas tax i...</td>\n",
       "      <td>Positive</td>\n",
       "    </tr>\n",
       "    <tr>\n",
       "      <th>43073</th>\n",
       "      <td>88025</td>\n",
       "      <td>Muskoka aka Hollywood North</td>\n",
       "      <td>12/04/2020</td>\n",
       "      <td>BUY a house just before the #coronavirus #pand...</td>\n",
       "      <td>Neutral</td>\n",
       "    </tr>\n",
       "    <tr>\n",
       "      <th>33136</th>\n",
       "      <td>78088</td>\n",
       "      <td>Atlanta area</td>\n",
       "      <td>05/04/2020</td>\n",
       "      <td>who through incredible selfishness is keeping ...</td>\n",
       "      <td>Positive</td>\n",
       "    </tr>\n",
       "    <tr>\n",
       "      <th>23083</th>\n",
       "      <td>68035</td>\n",
       "      <td>Manila/Ibiza</td>\n",
       "      <td>24/03/2020</td>\n",
       "      <td>In my two hours at the grocery, I have not see...</td>\n",
       "      <td>Negative</td>\n",
       "    </tr>\n",
       "    <tr>\n",
       "      <th>22247</th>\n",
       "      <td>67199</td>\n",
       "      <td>NaN</td>\n",
       "      <td>23/03/2020</td>\n",
       "      <td>During these times, people rely on online shop...</td>\n",
       "      <td>Negative</td>\n",
       "    </tr>\n",
       "  </tbody>\n",
       "</table>\n",
       "</div>"
      ],
      "text/plain": [
       "          ScreenName                     Location     TweetAt  \\\n",
       "UserName                                                        \n",
       "32831          77783              Ontario, Canada  05/04/2020   \n",
       "20717          65669              Los Angeles, CA  23/03/2020   \n",
       "11045          55997                          NaN  19/03/2020   \n",
       "6839           51791                          NaN  18/03/2020   \n",
       "35985          80937                    Australia  07/04/2020   \n",
       "10111          55063           750' in Elv.NW NJ   19/03/2020   \n",
       "43073          88025  Muskoka aka Hollywood North  12/04/2020   \n",
       "33136          78088                 Atlanta area  05/04/2020   \n",
       "23083          68035                 Manila/Ibiza  24/03/2020   \n",
       "22247          67199                          NaN  23/03/2020   \n",
       "\n",
       "                                              OriginalTweet  \\\n",
       "UserName                                                      \n",
       "32831     I have always, quietly, declined to use self-c...   \n",
       "20717     Russian Demand For Consumer Credit, Mortgages ...   \n",
       "11045     Bets on when albuterol inhaler prices will be ...   \n",
       "6839      #Saudi_Arabia cuts 2020 budget expenditure by ...   \n",
       "35985     PM fights for his health in intensive care as ...   \n",
       "10111     Hay @GovMurphy and state of NJ , the gas tax i...   \n",
       "43073     BUY a house just before the #coronavirus #pand...   \n",
       "33136     who through incredible selfishness is keeping ...   \n",
       "23083     In my two hours at the grocery, I have not see...   \n",
       "22247     During these times, people rely on online shop...   \n",
       "\n",
       "                   Sentiment  \n",
       "UserName                      \n",
       "32831     Extremely Positive  \n",
       "20717               Negative  \n",
       "11045               Positive  \n",
       "6839                Negative  \n",
       "35985               Positive  \n",
       "10111               Positive  \n",
       "43073                Neutral  \n",
       "33136               Positive  \n",
       "23083               Negative  \n",
       "22247               Negative  "
      ]
     },
     "execution_count": 49,
     "metadata": {},
     "output_type": "execute_result"
    }
   ],
   "source": [
    "DATA2.sample(10)"
   ]
  },
  {
   "cell_type": "markdown",
   "metadata": {},
   "source": [
    "Number in each sentiment category "
   ]
  },
  {
   "cell_type": "code",
   "execution_count": 50,
   "metadata": {},
   "outputs": [
    {
     "data": {
      "text/plain": [
       "Positive              12369\n",
       "Negative              10958\n",
       "Neutral                8332\n",
       "Extremely Positive     7223\n",
       "Extremely Negative     6073\n",
       "Name: Sentiment, dtype: int64"
      ]
     },
     "execution_count": 50,
     "metadata": {},
     "output_type": "execute_result"
    }
   ],
   "source": [
    "DATA[\"Sentiment\"].value_counts()"
   ]
  },
  {
   "cell_type": "markdown",
   "metadata": {},
   "source": [
    "Create balanced data"
   ]
  },
  {
   "cell_type": "code",
   "execution_count": 60,
   "metadata": {},
   "outputs": [],
   "source": [
    "def balance(dataframe, n=500):\n",
    "    \"\"\"\n",
    "    Create a balanced sample from imbalanced datasets.\n",
    "    \n",
    "    dataframe: \n",
    "        Pandas dataframe with a column called 'text' and one called 'label'\n",
    "    n:         \n",
    "        Number of samples from each Sentiment, defaults to 500\n",
    "    \"\"\"\n",
    "    \n",
    "    # Use pandas select a random bunch of examples from each label\n",
    "    out = (dataframe.groupby('Sentiment', as_index=False)\n",
    "            .apply(lambda x: x.sample(n=n))\n",
    "            .reset_index(drop=True))\n",
    "    \n",
    "    return out"
   ]
  },
  {
   "cell_type": "code",
   "execution_count": 61,
   "metadata": {},
   "outputs": [],
   "source": [
    "DATA_balanced = balance(DATA, 6000) # using the count of the smallest Sentiment category"
   ]
  },
  {
   "cell_type": "code",
   "execution_count": 62,
   "metadata": {},
   "outputs": [
    {
     "data": {
      "text/plain": [
       "(30000, 5)"
      ]
     },
     "execution_count": 62,
     "metadata": {},
     "output_type": "execute_result"
    }
   ],
   "source": [
    "DATA_balanced.shape"
   ]
  },
  {
   "cell_type": "code",
   "execution_count": 63,
   "metadata": {},
   "outputs": [
    {
     "data": {
      "text/plain": [
       "Neutral               6000\n",
       "Negative              6000\n",
       "Extremely Negative    6000\n",
       "Positive              6000\n",
       "Extremely Positive    6000\n",
       "Name: Sentiment, dtype: int64"
      ]
     },
     "execution_count": 63,
     "metadata": {},
     "output_type": "execute_result"
    }
   ],
   "source": [
    "DATA_balanced[\"Sentiment\"].value_counts()"
   ]
  },
  {
   "cell_type": "markdown",
   "metadata": {},
   "source": [
    "extract info from DATA so we can use it "
   ]
  },
  {
   "cell_type": "code",
   "execution_count": 64,
   "metadata": {},
   "outputs": [],
   "source": [
    "tweet = DATA_balanced[\"OriginalTweet\"]\n",
    "sentiment = DATA_balanced[\"Sentiment\"]"
   ]
  },
  {
   "cell_type": "code",
   "execution_count": 66,
   "metadata": {},
   "outputs": [
    {
     "data": {
      "text/html": [
       "<div>\n",
       "<style scoped>\n",
       "    .dataframe tbody tr th:only-of-type {\n",
       "        vertical-align: middle;\n",
       "    }\n",
       "\n",
       "    .dataframe tbody tr th {\n",
       "        vertical-align: top;\n",
       "    }\n",
       "\n",
       "    .dataframe thead th {\n",
       "        text-align: right;\n",
       "    }\n",
       "</style>\n",
       "<table border=\"1\" class=\"dataframe\">\n",
       "  <thead>\n",
       "    <tr style=\"text-align: right;\">\n",
       "      <th></th>\n",
       "      <th>ScreenName</th>\n",
       "      <th>Location</th>\n",
       "      <th>TweetAt</th>\n",
       "      <th>OriginalTweet</th>\n",
       "      <th>Sentiment</th>\n",
       "    </tr>\n",
       "  </thead>\n",
       "  <tbody>\n",
       "    <tr>\n",
       "      <th>21157</th>\n",
       "      <td>69696</td>\n",
       "      <td>Hand Sanitiser Hotel</td>\n",
       "      <td>25/03/2020</td>\n",
       "      <td>People still taking no notice of lockdown mini...</td>\n",
       "      <td>Neutral</td>\n",
       "    </tr>\n",
       "    <tr>\n",
       "      <th>4409</th>\n",
       "      <td>84851</td>\n",
       "      <td>Between Breakfast And Bedtime</td>\n",
       "      <td>09/04/2020</td>\n",
       "      <td>Evil that people would do this deliberately. \\...</td>\n",
       "      <td>Extremely Negative</td>\n",
       "    </tr>\n",
       "    <tr>\n",
       "      <th>29929</th>\n",
       "      <td>65071</td>\n",
       "      <td>Cape Town, South Africa</td>\n",
       "      <td>22/03/2020</td>\n",
       "      <td>@AbsaSouthAfrica @Absa Standard Bank announced...</td>\n",
       "      <td>Positive</td>\n",
       "    </tr>\n",
       "    <tr>\n",
       "      <th>17162</th>\n",
       "      <td>54989</td>\n",
       "      <td>Austin TX United States</td>\n",
       "      <td>19/03/2020</td>\n",
       "      <td>Bought some of that cheap gas outside Houston ...</td>\n",
       "      <td>Negative</td>\n",
       "    </tr>\n",
       "    <tr>\n",
       "      <th>16826</th>\n",
       "      <td>79047</td>\n",
       "      <td>NaN</td>\n",
       "      <td>06/04/2020</td>\n",
       "      <td>Â• We have updated some of our shipping prices...</td>\n",
       "      <td>Negative</td>\n",
       "    </tr>\n",
       "    <tr>\n",
       "      <th>...</th>\n",
       "      <td>...</td>\n",
       "      <td>...</td>\n",
       "      <td>...</td>\n",
       "      <td>...</td>\n",
       "      <td>...</td>\n",
       "    </tr>\n",
       "    <tr>\n",
       "      <th>3934</th>\n",
       "      <td>67154</td>\n",
       "      <td>NaN</td>\n",
       "      <td>23/03/2020</td>\n",
       "      <td>Is Covid 19. The tip of the ice berg for pande...</td>\n",
       "      <td>Extremely Negative</td>\n",
       "    </tr>\n",
       "    <tr>\n",
       "      <th>6380</th>\n",
       "      <td>77184</td>\n",
       "      <td>NaN</td>\n",
       "      <td>04/04/2020</td>\n",
       "      <td>Love seeing people wearing gloves at the super...</td>\n",
       "      <td>Extremely Positive</td>\n",
       "    </tr>\n",
       "    <tr>\n",
       "      <th>17235</th>\n",
       "      <td>53092</td>\n",
       "      <td>Montreal, QC</td>\n",
       "      <td>18/03/2020</td>\n",
       "      <td>#Ulta #shutters #stores shortly after cutting ...</td>\n",
       "      <td>Negative</td>\n",
       "    </tr>\n",
       "    <tr>\n",
       "      <th>5391</th>\n",
       "      <td>56132</td>\n",
       "      <td>London, UK</td>\n",
       "      <td>19/03/2020</td>\n",
       "      <td>Farage says it as it is. ChinaÂ’s appalling tr...</td>\n",
       "      <td>Extremely Negative</td>\n",
       "    </tr>\n",
       "    <tr>\n",
       "      <th>29830</th>\n",
       "      <td>86605</td>\n",
       "      <td>Lagos, Nigeria</td>\n",
       "      <td>11/04/2020</td>\n",
       "      <td>We are most excited to announce a partnership ...</td>\n",
       "      <td>Positive</td>\n",
       "    </tr>\n",
       "  </tbody>\n",
       "</table>\n",
       "<p>100 rows × 5 columns</p>\n",
       "</div>"
      ],
      "text/plain": [
       "       ScreenName                       Location     TweetAt  \\\n",
       "21157       69696           Hand Sanitiser Hotel  25/03/2020   \n",
       "4409        84851  Between Breakfast And Bedtime  09/04/2020   \n",
       "29929       65071        Cape Town, South Africa  22/03/2020   \n",
       "17162       54989        Austin TX United States  19/03/2020   \n",
       "16826       79047                            NaN  06/04/2020   \n",
       "...           ...                            ...         ...   \n",
       "3934        67154                            NaN  23/03/2020   \n",
       "6380        77184                            NaN  04/04/2020   \n",
       "17235       53092                   Montreal, QC  18/03/2020   \n",
       "5391        56132                     London, UK  19/03/2020   \n",
       "29830       86605                 Lagos, Nigeria  11/04/2020   \n",
       "\n",
       "                                           OriginalTweet           Sentiment  \n",
       "21157  People still taking no notice of lockdown mini...             Neutral  \n",
       "4409   Evil that people would do this deliberately. \\...  Extremely Negative  \n",
       "29929  @AbsaSouthAfrica @Absa Standard Bank announced...            Positive  \n",
       "17162  Bought some of that cheap gas outside Houston ...            Negative  \n",
       "16826  Â• We have updated some of our shipping prices...            Negative  \n",
       "...                                                  ...                 ...  \n",
       "3934   Is Covid 19. The tip of the ice berg for pande...  Extremely Negative  \n",
       "6380   Love seeing people wearing gloves at the super...  Extremely Positive  \n",
       "17235  #Ulta #shutters #stores shortly after cutting ...            Negative  \n",
       "5391   Farage says it as it is. ChinaÂ’s appalling tr...  Extremely Negative  \n",
       "29830  We are most excited to announce a partnership ...            Positive  \n",
       "\n",
       "[100 rows x 5 columns]"
      ]
     },
     "execution_count": 66,
     "metadata": {},
     "output_type": "execute_result"
    }
   ],
   "source": [
    "DATA_balanced.sample(100)"
   ]
  },
  {
   "cell_type": "markdown",
   "metadata": {},
   "source": [
    "Train test set"
   ]
  },
  {
   "cell_type": "code",
   "execution_count": 112,
   "metadata": {},
   "outputs": [],
   "source": [
    "X_train, X_test, y_train, y_test = train_test_split(tweet,           # texts for the model\n",
    "                                                    sentiment,          # classification labels\n",
    "                                                    test_size=0.2,   # create an 80/20 split\n",
    "                                                    random_state=42) # random state for reproducibility"
   ]
  },
  {
   "cell_type": "code",
   "execution_count": 113,
   "metadata": {},
   "outputs": [
    {
     "data": {
      "text/plain": [
       "Extremely Positive    1244\n",
       "Negative              1216\n",
       "Positive              1190\n",
       "Extremely Negative    1179\n",
       "Neutral               1171\n",
       "Name: Sentiment, dtype: int64"
      ]
     },
     "execution_count": 113,
     "metadata": {},
     "output_type": "execute_result"
    }
   ],
   "source": [
    "y_test.value_counts()"
   ]
  },
  {
   "cell_type": "code",
   "execution_count": 114,
   "metadata": {},
   "outputs": [
    {
     "data": {
      "text/plain": [
       "Neutral               4829\n",
       "Extremely Negative    4821\n",
       "Positive              4810\n",
       "Negative              4784\n",
       "Extremely Positive    4756\n",
       "Name: Sentiment, dtype: int64"
      ]
     },
     "execution_count": 114,
     "metadata": {},
     "output_type": "execute_result"
    }
   ],
   "source": [
    "y_train.value_counts()"
   ]
  },
  {
   "cell_type": "markdown",
   "metadata": {},
   "source": [
    "__Vectorizing and Feature Extraction__"
   ]
  },
  {
   "cell_type": "code",
   "execution_count": 115,
   "metadata": {},
   "outputs": [],
   "source": [
    "vectorizer = TfidfVectorizer(ngram_range = (1,2),     # unigrams and bigrams (1 word and 2 word units)\n",
    "                             lowercase =  True,       # why use lowercase?\n",
    "                             max_df = 0.95,           # remove very common words\n",
    "                             min_df = 0.05,           # remove very rare words\n",
    "                             max_features = 500)      # keep only top 500 features\n",
    "\n",
    "# This vectorizer is then used to turn all of our documents into a vector of numbers, instead of text."
   ]
  },
  {
   "cell_type": "code",
   "execution_count": 116,
   "metadata": {},
   "outputs": [],
   "source": [
    "# First we do it for our training data...\n",
    "X_train_feats = vectorizer.fit_transform(X_train)\n",
    "#... then we do it for our test data\n",
    "X_test_feats = vectorizer.transform(X_test)\n",
    "# We can also create a list of the feature names. \n",
    "feature_names = vectorizer.get_feature_names()"
   ]
  },
  {
   "cell_type": "code",
   "execution_count": 117,
   "metadata": {},
   "outputs": [],
   "source": [
    "sc = preprocessing.StandardScaler(with_mean=False)\n",
    "X_scaled = sc.fit_transform(X_train_feats)"
   ]
  },
  {
   "cell_type": "code",
   "execution_count": null,
   "metadata": {},
   "outputs": [],
   "source": []
  },
  {
   "cell_type": "markdown",
   "metadata": {},
   "source": [
    "__Classifying and predicting__"
   ]
  },
  {
   "cell_type": "code",
   "execution_count": 118,
   "metadata": {},
   "outputs": [
    {
     "name": "stderr",
     "output_type": "stream",
     "text": [
      "/home/cds-au613522/cds-language/my_repo_language_github/LanguageAnalytics/assignment5_SupervisedML/ML_environment/lib/python3.6/site-packages/sklearn/linear_model/_logistic.py:765: ConvergenceWarning: lbfgs failed to converge (status=1):\n",
      "STOP: TOTAL NO. of ITERATIONS REACHED LIMIT.\n",
      "\n",
      "Increase the number of iterations (max_iter) or scale the data as shown in:\n",
      "    https://scikit-learn.org/stable/modules/preprocessing.html\n",
      "Please also refer to the documentation for alternative solver options:\n",
      "    https://scikit-learn.org/stable/modules/linear_model.html#logistic-regression\n",
      "  extra_warning_msg=_LOGISTIC_SOLVER_CONVERGENCE_MSG)\n"
     ]
    }
   ],
   "source": [
    "classifier = LogisticRegression(random_state=42).fit(X_scaled, y_train)"
   ]
  },
  {
   "cell_type": "code",
   "execution_count": null,
   "metadata": {},
   "outputs": [],
   "source": []
  }
 ],
 "metadata": {
  "kernelspec": {
   "display_name": "ML_environment",
   "language": "python",
   "name": "ml_environment"
  },
  "language_info": {
   "codemirror_mode": {
    "name": "ipython",
    "version": 3
   },
   "file_extension": ".py",
   "mimetype": "text/x-python",
   "name": "python",
   "nbconvert_exporter": "python",
   "pygments_lexer": "ipython3",
   "version": "3.6.9"
  }
 },
 "nbformat": 4,
 "nbformat_minor": 4
}
