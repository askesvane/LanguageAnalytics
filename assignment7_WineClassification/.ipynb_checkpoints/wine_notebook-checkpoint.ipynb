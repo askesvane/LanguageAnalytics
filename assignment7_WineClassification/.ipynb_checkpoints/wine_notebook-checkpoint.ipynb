{
 "cells": [
  {
   "cell_type": "markdown",
   "metadata": {},
   "source": [
    "## Wine classification\n",
    "__Deep Learning model__ classifying the grape from reviews"
   ]
  },
  {
   "cell_type": "code",
   "execution_count": 79,
   "metadata": {},
   "outputs": [],
   "source": [
    "# _________ Install packages _________#\n",
    "\n",
    "# system tools\n",
    "import os\n",
    "import sys\n",
    "import argparse\n",
    "sys.path.append(os.path.join(\"..\"))\n",
    "\n",
    "# pandas, numpy, gensim\n",
    "import pandas as pd\n",
    "import numpy as np\n",
    "import gensim.downloader\n",
    "\n",
    "# Machine learning stuff\n",
    "from sklearn.model_selection import train_test_split\n",
    "from sklearn.feature_extraction.text import CountVectorizer, TfidfVectorizer\n",
    "from sklearn.linear_model import LogisticRegression\n",
    "from sklearn.model_selection import ShuffleSplit\n",
    "from sklearn import metrics\n",
    "\n",
    "# tools from tensorflow\n",
    "import tensorflow as tf\n",
    "from tensorflow.keras.models import Sequential\n",
    "from tensorflow.keras.layers import (Dense, Embedding, \n",
    "                                     Flatten, GlobalMaxPool1D, Conv1D)\n",
    "from tensorflow.keras.optimizers import SGD, Adam\n",
    "from tensorflow.keras import backend as K\n",
    "from tensorflow.keras.utils import plot_model\n",
    "from tensorflow.keras.preprocessing.text import Tokenizer\n",
    "from tensorflow.keras.preprocessing.sequence import pad_sequences\n",
    "from tensorflow.keras.regularizers import L2\n",
    "\n",
    "# sklearn tools\n",
    "from sklearn.preprocessing import LabelBinarizer\n",
    "\n",
    "# additional packages\n",
    "import matplotlib.pyplot as plt\n",
    "from itertools import repeat\n",
    "import itertools"
   ]
  },
  {
   "cell_type": "code",
   "execution_count": null,
   "metadata": {},
   "outputs": [],
   "source": []
  },
  {
   "cell_type": "markdown",
   "metadata": {},
   "source": [
    "Import data "
   ]
  },
  {
   "cell_type": "code",
   "execution_count": 80,
   "metadata": {},
   "outputs": [],
   "source": [
    "# Read the data as 'DATA' from the data folder\n",
    "filename = os.path.join(\"data\", \"winemag-data-130k-v2.csv\")\n",
    "\n",
    "DATA = pd.read_csv(filename, index_col=0)"
   ]
  },
  {
   "cell_type": "code",
   "execution_count": 81,
   "metadata": {},
   "outputs": [
    {
     "data": {
      "text/html": [
       "<div>\n",
       "<style scoped>\n",
       "    .dataframe tbody tr th:only-of-type {\n",
       "        vertical-align: middle;\n",
       "    }\n",
       "\n",
       "    .dataframe tbody tr th {\n",
       "        vertical-align: top;\n",
       "    }\n",
       "\n",
       "    .dataframe thead th {\n",
       "        text-align: right;\n",
       "    }\n",
       "</style>\n",
       "<table border=\"1\" class=\"dataframe\">\n",
       "  <thead>\n",
       "    <tr style=\"text-align: right;\">\n",
       "      <th></th>\n",
       "      <th>country</th>\n",
       "      <th>description</th>\n",
       "      <th>designation</th>\n",
       "      <th>points</th>\n",
       "      <th>price</th>\n",
       "      <th>province</th>\n",
       "      <th>region_1</th>\n",
       "      <th>region_2</th>\n",
       "      <th>taster_name</th>\n",
       "      <th>taster_twitter_handle</th>\n",
       "      <th>title</th>\n",
       "      <th>variety</th>\n",
       "      <th>winery</th>\n",
       "    </tr>\n",
       "  </thead>\n",
       "  <tbody>\n",
       "    <tr>\n",
       "      <th>47943</th>\n",
       "      <td>Chile</td>\n",
       "      <td>Crusty but also perfumed on the bouquet, and t...</td>\n",
       "      <td>Reserva</td>\n",
       "      <td>88</td>\n",
       "      <td>15.0</td>\n",
       "      <td>Maipo Valley</td>\n",
       "      <td>NaN</td>\n",
       "      <td>NaN</td>\n",
       "      <td>Michael Schachner</td>\n",
       "      <td>@wineschach</td>\n",
       "      <td>Casa Rivas 2005 Reserva Cabernet Sauvignon (Ma...</td>\n",
       "      <td>Cabernet Sauvignon</td>\n",
       "      <td>Casa Rivas</td>\n",
       "    </tr>\n",
       "    <tr>\n",
       "      <th>65186</th>\n",
       "      <td>France</td>\n",
       "      <td>This pale copper rosé is made from 30% Grenach...</td>\n",
       "      <td>Domaine Le Pive Gris</td>\n",
       "      <td>88</td>\n",
       "      <td>16.0</td>\n",
       "      <td>Languedoc-Roussillon</td>\n",
       "      <td>Sable de Camargue</td>\n",
       "      <td>NaN</td>\n",
       "      <td>Lauren Buzzeo</td>\n",
       "      <td>@laurbuzz</td>\n",
       "      <td>Vignobles Jeanjean 2016 Domaine Le Pive Gris R...</td>\n",
       "      <td>Rosé</td>\n",
       "      <td>Vignobles Jeanjean</td>\n",
       "    </tr>\n",
       "    <tr>\n",
       "      <th>36883</th>\n",
       "      <td>US</td>\n",
       "      <td>Ripe apple and banana flavors lead this native...</td>\n",
       "      <td>NaN</td>\n",
       "      <td>87</td>\n",
       "      <td>27.0</td>\n",
       "      <td>Oregon</td>\n",
       "      <td>Willamette Valley</td>\n",
       "      <td>Willamette Valley</td>\n",
       "      <td>Paul Gregutt</td>\n",
       "      <td>@paulgwine</td>\n",
       "      <td>Twill 2014 Chardonnay (Willamette Valley)</td>\n",
       "      <td>Chardonnay</td>\n",
       "      <td>Twill</td>\n",
       "    </tr>\n",
       "    <tr>\n",
       "      <th>47231</th>\n",
       "      <td>US</td>\n",
       "      <td>Crisp and cutting, this exceptionally refreshi...</td>\n",
       "      <td>NaN</td>\n",
       "      <td>89</td>\n",
       "      <td>18.0</td>\n",
       "      <td>New York</td>\n",
       "      <td>Long Island</td>\n",
       "      <td>Long Island</td>\n",
       "      <td>Anna Lee C. Iijima</td>\n",
       "      <td>NaN</td>\n",
       "      <td>Wölffer 2014 Rosé (Long Island)</td>\n",
       "      <td>Rosé</td>\n",
       "      <td>Wölffer</td>\n",
       "    </tr>\n",
       "    <tr>\n",
       "      <th>126156</th>\n",
       "      <td>US</td>\n",
       "      <td>Fresh and floral, it's invigorating on the nos...</td>\n",
       "      <td>NaN</td>\n",
       "      <td>88</td>\n",
       "      <td>20.0</td>\n",
       "      <td>New York</td>\n",
       "      <td>North Fork of Long Island</td>\n",
       "      <td>Long Island</td>\n",
       "      <td>Anna Lee C. Iijima</td>\n",
       "      <td>NaN</td>\n",
       "      <td>Palmer 2011 Pinot Blanc (North Fork of Long Is...</td>\n",
       "      <td>Pinot Blanc</td>\n",
       "      <td>Palmer</td>\n",
       "    </tr>\n",
       "    <tr>\n",
       "      <th>48602</th>\n",
       "      <td>US</td>\n",
       "      <td>Medium purple in color, faint blueberry juice ...</td>\n",
       "      <td>Single Barrel #4 Katherine's Vineyard Domaine ...</td>\n",
       "      <td>84</td>\n",
       "      <td>85.0</td>\n",
       "      <td>Michigan</td>\n",
       "      <td>Lake Michigan Shore</td>\n",
       "      <td>NaN</td>\n",
       "      <td>Alexander Peartree</td>\n",
       "      <td>NaN</td>\n",
       "      <td>Nathaniel Rose 2013 Single Barrel #4 Katherine...</td>\n",
       "      <td>Syrah-Viognier</td>\n",
       "      <td>Nathaniel Rose</td>\n",
       "    </tr>\n",
       "    <tr>\n",
       "      <th>55419</th>\n",
       "      <td>US</td>\n",
       "      <td>A tasty mix of fresh fruit flavors—including m...</td>\n",
       "      <td>Grisant!</td>\n",
       "      <td>87</td>\n",
       "      <td>18.0</td>\n",
       "      <td>Washington</td>\n",
       "      <td>Columbia Valley (WA)</td>\n",
       "      <td>Columbia Valley</td>\n",
       "      <td>Paul Gregutt</td>\n",
       "      <td>@paulgwine</td>\n",
       "      <td>Vin du Lac 2011 Grisant! Pinot Gris (Columbia ...</td>\n",
       "      <td>Pinot Gris</td>\n",
       "      <td>Vin du Lac</td>\n",
       "    </tr>\n",
       "    <tr>\n",
       "      <th>96518</th>\n",
       "      <td>US</td>\n",
       "      <td>Based on Merlot, this Bordeaux-style blend is ...</td>\n",
       "      <td>Bastille</td>\n",
       "      <td>86</td>\n",
       "      <td>38.0</td>\n",
       "      <td>California</td>\n",
       "      <td>Sonoma County</td>\n",
       "      <td>Sonoma</td>\n",
       "      <td>NaN</td>\n",
       "      <td>NaN</td>\n",
       "      <td>De Novo 2009 Bastille Red (Sonoma County)</td>\n",
       "      <td>Bordeaux-style Red Blend</td>\n",
       "      <td>De Novo</td>\n",
       "    </tr>\n",
       "    <tr>\n",
       "      <th>111339</th>\n",
       "      <td>Portugal</td>\n",
       "      <td>At this stage, this wine is dominated by wood....</td>\n",
       "      <td>Ciconia</td>\n",
       "      <td>91</td>\n",
       "      <td>NaN</td>\n",
       "      <td>Alentejano</td>\n",
       "      <td>NaN</td>\n",
       "      <td>NaN</td>\n",
       "      <td>Roger Voss</td>\n",
       "      <td>@vossroger</td>\n",
       "      <td>Herdade de São Miguel 2012 Ciconia Touriga Nac...</td>\n",
       "      <td>Touriga Nacional</td>\n",
       "      <td>Herdade de São Miguel</td>\n",
       "    </tr>\n",
       "    <tr>\n",
       "      <th>91090</th>\n",
       "      <td>US</td>\n",
       "      <td>A bit brittle, with big acidity and a tension ...</td>\n",
       "      <td>Peters Vineyard</td>\n",
       "      <td>86</td>\n",
       "      <td>55.0</td>\n",
       "      <td>California</td>\n",
       "      <td>Russian River Valley</td>\n",
       "      <td>Sonoma</td>\n",
       "      <td>NaN</td>\n",
       "      <td>NaN</td>\n",
       "      <td>Amphora 2007 Peters Vineyard Pinot Noir (Russi...</td>\n",
       "      <td>Pinot Noir</td>\n",
       "      <td>Amphora</td>\n",
       "    </tr>\n",
       "  </tbody>\n",
       "</table>\n",
       "</div>"
      ],
      "text/plain": [
       "         country                                        description  \\\n",
       "47943      Chile  Crusty but also perfumed on the bouquet, and t...   \n",
       "65186     France  This pale copper rosé is made from 30% Grenach...   \n",
       "36883         US  Ripe apple and banana flavors lead this native...   \n",
       "47231         US  Crisp and cutting, this exceptionally refreshi...   \n",
       "126156        US  Fresh and floral, it's invigorating on the nos...   \n",
       "48602         US  Medium purple in color, faint blueberry juice ...   \n",
       "55419         US  A tasty mix of fresh fruit flavors—including m...   \n",
       "96518         US  Based on Merlot, this Bordeaux-style blend is ...   \n",
       "111339  Portugal  At this stage, this wine is dominated by wood....   \n",
       "91090         US  A bit brittle, with big acidity and a tension ...   \n",
       "\n",
       "                                              designation  points  price  \\\n",
       "47943                                             Reserva      88   15.0   \n",
       "65186                                Domaine Le Pive Gris      88   16.0   \n",
       "36883                                                 NaN      87   27.0   \n",
       "47231                                                 NaN      89   18.0   \n",
       "126156                                                NaN      88   20.0   \n",
       "48602   Single Barrel #4 Katherine's Vineyard Domaine ...      84   85.0   \n",
       "55419                                            Grisant!      87   18.0   \n",
       "96518                                            Bastille      86   38.0   \n",
       "111339                                            Ciconia      91    NaN   \n",
       "91090                                     Peters Vineyard      86   55.0   \n",
       "\n",
       "                    province                   region_1           region_2  \\\n",
       "47943           Maipo Valley                        NaN                NaN   \n",
       "65186   Languedoc-Roussillon          Sable de Camargue                NaN   \n",
       "36883                 Oregon          Willamette Valley  Willamette Valley   \n",
       "47231               New York                Long Island        Long Island   \n",
       "126156              New York  North Fork of Long Island        Long Island   \n",
       "48602               Michigan        Lake Michigan Shore                NaN   \n",
       "55419             Washington       Columbia Valley (WA)    Columbia Valley   \n",
       "96518             California              Sonoma County             Sonoma   \n",
       "111339            Alentejano                        NaN                NaN   \n",
       "91090             California       Russian River Valley             Sonoma   \n",
       "\n",
       "               taster_name taster_twitter_handle  \\\n",
       "47943    Michael Schachner           @wineschach   \n",
       "65186        Lauren Buzzeo             @laurbuzz   \n",
       "36883         Paul Gregutt           @paulgwine    \n",
       "47231   Anna Lee C. Iijima                   NaN   \n",
       "126156  Anna Lee C. Iijima                   NaN   \n",
       "48602   Alexander Peartree                   NaN   \n",
       "55419         Paul Gregutt           @paulgwine    \n",
       "96518                  NaN                   NaN   \n",
       "111339          Roger Voss            @vossroger   \n",
       "91090                  NaN                   NaN   \n",
       "\n",
       "                                                    title  \\\n",
       "47943   Casa Rivas 2005 Reserva Cabernet Sauvignon (Ma...   \n",
       "65186   Vignobles Jeanjean 2016 Domaine Le Pive Gris R...   \n",
       "36883           Twill 2014 Chardonnay (Willamette Valley)   \n",
       "47231                     Wölffer 2014 Rosé (Long Island)   \n",
       "126156  Palmer 2011 Pinot Blanc (North Fork of Long Is...   \n",
       "48602   Nathaniel Rose 2013 Single Barrel #4 Katherine...   \n",
       "55419   Vin du Lac 2011 Grisant! Pinot Gris (Columbia ...   \n",
       "96518           De Novo 2009 Bastille Red (Sonoma County)   \n",
       "111339  Herdade de São Miguel 2012 Ciconia Touriga Nac...   \n",
       "91090   Amphora 2007 Peters Vineyard Pinot Noir (Russi...   \n",
       "\n",
       "                         variety                 winery  \n",
       "47943         Cabernet Sauvignon             Casa Rivas  \n",
       "65186                       Rosé     Vignobles Jeanjean  \n",
       "36883                 Chardonnay                  Twill  \n",
       "47231                       Rosé                Wölffer  \n",
       "126156               Pinot Blanc                 Palmer  \n",
       "48602             Syrah-Viognier         Nathaniel Rose  \n",
       "55419                 Pinot Gris             Vin du Lac  \n",
       "96518   Bordeaux-style Red Blend                De Novo  \n",
       "111339          Touriga Nacional  Herdade de São Miguel  \n",
       "91090                 Pinot Noir                Amphora  "
      ]
     },
     "execution_count": 81,
     "metadata": {},
     "output_type": "execute_result"
    }
   ],
   "source": [
    "DATA.sample(10)"
   ]
  },
  {
   "cell_type": "code",
   "execution_count": 82,
   "metadata": {},
   "outputs": [
    {
     "data": {
      "text/plain": [
       "129971"
      ]
     },
     "execution_count": 82,
     "metadata": {},
     "output_type": "execute_result"
    }
   ],
   "source": [
    "len(DATA)"
   ]
  },
  {
   "cell_type": "code",
   "execution_count": 83,
   "metadata": {},
   "outputs": [
    {
     "data": {
      "text/plain": [
       "['Imported by Kobrand.',\n",
       " 'Imported by JL Giguiere.',\n",
       " 'Imported by Lion Nathan USA.',\n",
       " 'Review not available at this time.',\n",
       " 'Imported by Bluewater Wine Company.',\n",
       " 'Very light, could almost be a rosé.',\n",
       " 'Flat, fruity and lacking in complexity.',\n",
       " 'Review text not available at this time.',\n",
       " 'Dusty, chalky and thin, with little fruit.',\n",
       " 'Smells raisiny, feels hot, tastes overripe.',\n",
       " 'Imported by Maisons Marques & Domaines USA.',\n",
       " 'This wine is all wood, with no promise of fruit.',\n",
       " 'A very simple Chardonnay with sour apple flavor.',\n",
       " 'This is acidic and sweet, with a medicinal taste.',\n",
       " 'Tastes sour and bone dry, with grapefruit flavors.',\n",
       " 'A flat tasting, slightly sweet, generic white wine.',\n",
       " 'This is hard and tough, all tannins and extraction.',\n",
       " 'Soft and dull, with cherry, mint and spice flavors.',\n",
       " 'A soft wine, with diluted berry and cherry flavors.',\n",
       " 'A grippy Cabernet lacking in fruit and personality.',\n",
       " 'Sugary sweet and medicinal, like cherry cough syrup.',\n",
       " 'Heavy and dull, with extracted raspberry jam flavors.',\n",
       " '84-86 Tough, only with tannins. Very hard wine, firm.',\n",
       " 'This is heavy and overripe, with prune jelly flavors.',\n",
       " 'Dull and soft, with vegetal and candied berry flavors.',\n",
       " 'Watery and sweet, with apricot and orange jam flavors.',\n",
       " 'Simple and sugary sweet with pineapple and mango fruit.',\n",
       " 'Vegetal and dull, with asparagus and raspberry flavors.',\n",
       " 'Direct and fruity, this Chardonnay is loaded with lemon.',\n",
       " 'A soft, simple wine, with cherry cough medicine flavors.']"
      ]
     },
     "execution_count": 83,
     "metadata": {},
     "output_type": "execute_result"
    }
   ],
   "source": [
    "tester = DATA[\"description\"]\n",
    "sorted(tester, key=len)[0:30]"
   ]
  },
  {
   "cell_type": "markdown",
   "metadata": {},
   "source": [
    "__Define parameters__\n"
   ]
  },
  {
   "cell_type": "code",
   "execution_count": 84,
   "metadata": {},
   "outputs": [],
   "source": [
    "n = 10 # Number of grapes \n",
    "chunk_size = 10 # number of descriptions that should be chunked together \n",
    "test_size = 0.25 # dataset test size\n",
    "embedding_dim = 50 # Number of embedding dimensions\n",
    "trainable_embeddings = True"
   ]
  },
  {
   "cell_type": "code",
   "execution_count": 85,
   "metadata": {},
   "outputs": [
    {
     "data": {
      "text/plain": [
       "['Pinot Noir',\n",
       " 'Chardonnay',\n",
       " 'Cabernet Sauvignon',\n",
       " 'Red Blend',\n",
       " 'Bordeaux-style Red Blend',\n",
       " 'Riesling',\n",
       " 'Sauvignon Blanc',\n",
       " 'Syrah',\n",
       " 'Rosé',\n",
       " 'Merlot']"
      ]
     },
     "execution_count": 85,
     "metadata": {},
     "output_type": "execute_result"
    }
   ],
   "source": [
    "# get top 10 most frequent names\n",
    "topGrapes = DATA['variety'].value_counts()[:n].index.tolist()\n",
    "topGrapes"
   ]
  },
  {
   "cell_type": "code",
   "execution_count": 86,
   "metadata": {},
   "outputs": [
    {
     "data": {
      "text/plain": [
       "71322"
      ]
     },
     "execution_count": 86,
     "metadata": {},
     "output_type": "execute_result"
    }
   ],
   "source": [
    "# Only keep top 10 grapes in the data\n",
    "DATA_top = DATA.loc[DATA['variety'].isin(topGrapes)]\n",
    "len(DATA_top)"
   ]
  },
  {
   "cell_type": "code",
   "execution_count": 87,
   "metadata": {},
   "outputs": [
    {
     "name": "stdout",
     "output_type": "stream",
     "text": [
      "['Riesling' 'Pinot Noir' 'Cabernet Sauvignon' 'Chardonnay' 'Red Blend'\n",
      " 'Merlot' 'Sauvignon Blanc' 'Bordeaux-style Red Blend' 'Rosé' 'Syrah']\n"
     ]
    }
   ],
   "source": [
    "# Get a list of uniques seasons (1 to 8)\n",
    "grapes = DATA_top.variety.unique()\n",
    "print(grapes)"
   ]
  },
  {
   "cell_type": "markdown",
   "metadata": {},
   "source": [
    "__FUnctions__"
   ]
  },
  {
   "cell_type": "code",
   "execution_count": 88,
   "metadata": {},
   "outputs": [],
   "source": [
    "# Chunk function\n",
    "def chunk_me(DATA, chunk_size):\n",
    "    \"\"\"\n",
    "    Function that will take the data and return two lists, \n",
    "    one with labels and one with corresponding text chunks given the chunk size defined\"\"\"\n",
    "    \n",
    "    # Get a list of uniques seasons (1 to 8)\n",
    "    grapes = DATA.variety.unique()\n",
    "\n",
    "    # Create empty list to save text chunks and corresponding labels\n",
    "    text = []\n",
    "    labels = []\n",
    "\n",
    "    # Loop over every season and chunk lines together + save season label.\n",
    "    for i in grapes:\n",
    "        \n",
    "        # Get data from season\n",
    "        grape = DATA[DATA[\"variety\"] == i]  \n",
    "        \n",
    "        # Get lines\n",
    "        descriptions = grape[\"description\"]\n",
    "        \n",
    "        # Chunk lines together\n",
    "        chunks = []\n",
    "        for w in range(0, len(descriptions), chunk_size):\n",
    "            chunks.append(' '.join(descriptions[w:w+chunk_size]))\n",
    "        \n",
    "        # Save to lists outside the loop (repeat the name of the grape corresponding to the number of chunks)\n",
    "        labels.extend(repeat(i, len(chunks)))\n",
    "        text.append(chunks)\n",
    "    \n",
    "    # From list of lists --> to list\n",
    "    text = list(itertools.chain(*text))\n",
    "    \n",
    "    return(labels, text)"
   ]
  },
  {
   "cell_type": "code",
   "execution_count": 120,
   "metadata": {},
   "outputs": [],
   "source": [
    "# Balance data \n",
    "def balance(dataframe, colname, n=500):\n",
    "    \"\"\"\n",
    "    The function is made by Ross a only slighty modified:\n",
    "    https://github.com/CDS-AU-DK/cds-language/blob/main/utils/classifier_utils.py\n",
    "    \n",
    "    Function to balance data.\n",
    "    dataframe = df to be balanced\n",
    "    colname = column with labels the data should be balanced according to\n",
    "    n = row per label\n",
    "    \"\"\"\n",
    "    # Use pandas select a random bunch of examples from each label\n",
    "    out = (dataframe.groupby(colname, as_index=False)\n",
    "            .apply(lambda x: x.sample(n=n))\n",
    "            .reset_index(drop=True))\n",
    "    \n",
    "    return out\n",
    "\n",
    "# balance chunks\n",
    "def balance_chunks(labels, text):\n",
    "    \"\"\"\n",
    "    Function using the already defined balance() function to balance the text chunks. \n",
    "    Return two lists containng labels and text\n",
    "    \"\"\"\n",
    "    # Create df to hold the data (as the function balance() takes a df as the input)\n",
    "    df = pd.DataFrame()\n",
    "    df[\"grape\"] = labels\n",
    "    df[\"line_chunks\"] = text\n",
    "\n",
    "    # Get the minimum amount of line chunks for a season - balance accordingly\n",
    "    min_count = df[\"grape\"].value_counts().min()\n",
    "    \n",
    "    # Use predefined balance() function to balance amount of entrances across grapes descriptions\n",
    "    balanced = balance(df, \"grape\", 20) #min_count\n",
    "\n",
    "    # Extract information from the df\n",
    "    line_chunks = balanced[\"line_chunks\"]\n",
    "    grape = balanced[\"grape\"]\n",
    "    \n",
    "    return(grape, line_chunks, balanced)"
   ]
  },
  {
   "cell_type": "markdown",
   "metadata": {},
   "source": [
    "__The actual script__"
   ]
  },
  {
   "cell_type": "code",
   "execution_count": 121,
   "metadata": {},
   "outputs": [
    {
     "data": {
      "text/plain": [
       "7138"
      ]
     },
     "execution_count": 121,
     "metadata": {},
     "output_type": "execute_result"
    }
   ],
   "source": [
    "labels, text = chunk_me(DATA_top, chunk_size)\n",
    "len(labels)"
   ]
  },
  {
   "cell_type": "code",
   "execution_count": 122,
   "metadata": {},
   "outputs": [
    {
     "data": {
      "text/plain": [
       "\"Dusty tannins make for a soft texture in this wine that's subtle in dried fruit, Christmas spice, chocolate and clove. It delivers flavor and complexity without attitude, a savory expression of the grape from a relatively cool climate. This wine offers a delightful bouquet of blackberry and rose petal with touches of salinity. It is smooth and silky at first sip, with flavors of black plum, cherry, chocolate, lavender, and freshly roasted coffee. As it makes its way around the mouth, stern tannins make their presence known and then recede into a finish notable for a lingering espresso bean flavor.\""
      ]
     },
     "execution_count": 122,
     "metadata": {},
     "output_type": "execute_result"
    }
   ],
   "source": [
    "# Testing the text list and how they have been chunked together\n",
    "sorted(text, key=len)[1]"
   ]
  },
  {
   "cell_type": "code",
   "execution_count": 123,
   "metadata": {},
   "outputs": [],
   "source": [
    "# Balance the chunks so all seasons are represented with the same amount of chunks\n",
    "grape, line_chunks, balanced = balance_chunks(labels, text)"
   ]
  },
  {
   "cell_type": "code",
   "execution_count": 124,
   "metadata": {},
   "outputs": [],
   "source": [
    "# Split the data in train and test.\n",
    "X_train, X_test, y_train, y_test = train_test_split(line_chunks,           # sentences for the model\n",
    "                                                    grape,                # classification labels (seasons)\n",
    "                                                    test_size=test_size,   # create an 70/30 split\n",
    "                                                    random_state=42)       # random state for reproducibility"
   ]
  },
  {
   "cell_type": "code",
   "execution_count": 125,
   "metadata": {},
   "outputs": [
    {
     "data": {
      "text/plain": [
       "\"Made in the popular style, this Chardonnay has zesty acidity that gives brightness to the orange, pear, peach and tropical fruit flavors. A simple, everyday Chardonnay that's refreshingly crisp, with sweet lime, orange, pear and vanilla flavors. Direct and fruity, this Chardonnay is loaded with lemon. Round and ripe tropical fruit mark this solid and affordable Chardonnay. Interesting shadings of lime, clove and other spices keep it engaging on the palate. Ends with a medium- length finish of sweet-tart pineapple fruit. This bottling has a creamy texture, with pleasant, simple flavors of citrus and buttery oak. Elegance, not opulence, marks this Chardonnay. It's very dry and acidic, with citrus, herb and toast flavors. Don't look here for a big, fat, buttery, ripe style, because you won't find it. Sourced from three great Chardonnay vineyards (Stanly Ranch, Hyde and Silverado-Suscol), this Chard is enormously flavorful in fruit custard flavors and new oak. It's delicious, but a little obvious, especially on the oak side, and could have more complex nuances and angles. Drink now. Buttercream, sea salt, caramel and lemon candy aromas show on the nose of this solid bottling. The flavors are full but not overly ripe, with yellow apple, poached pear, white peach and a sea salt character that keeps it mouthwatering. Flavors are followed by intense crisp citrus fruit. This is a lively style, very fresh with a delicious tang of orange zest, light caramel and vibrant acidity. Spice and fresh fruit give flavors of baked apples, a creamy texture and bright acidity. Well balanced, the aftertaste shows toast and honey flavors.\""
      ]
     },
     "execution_count": 125,
     "metadata": {},
     "output_type": "execute_result"
    }
   ],
   "source": [
    "sorted(X_train, key=len)[0]"
   ]
  },
  {
   "cell_type": "code",
   "execution_count": 126,
   "metadata": {},
   "outputs": [
    {
     "data": {
      "text/plain": [
       "pandas.core.series.Series"
      ]
     },
     "execution_count": 126,
     "metadata": {},
     "output_type": "execute_result"
    }
   ],
   "source": [
    "type(X_train)"
   ]
  },
  {
   "cell_type": "code",
   "execution_count": 127,
   "metadata": {},
   "outputs": [],
   "source": [
    "# Change the split data into numpy arrays\n",
    "X_train = X_train.to_numpy()\n",
    "X_test = X_test.to_numpy()\n",
    "y_train = y_train.to_numpy()\n",
    "y_test = y_test.to_numpy()"
   ]
  },
  {
   "cell_type": "code",
   "execution_count": null,
   "metadata": {},
   "outputs": [],
   "source": []
  },
  {
   "cell_type": "code",
   "execution_count": 128,
   "metadata": {},
   "outputs": [
    {
     "data": {
      "text/plain": [
       "150"
      ]
     },
     "execution_count": 128,
     "metadata": {},
     "output_type": "execute_result"
    }
   ],
   "source": [
    "len(X_train)"
   ]
  },
  {
   "cell_type": "code",
   "execution_count": 129,
   "metadata": {},
   "outputs": [],
   "source": [
    "# Binarize the labels\n",
    "lb = LabelBinarizer() \n",
    "y_train = lb.fit_transform(y_train)\n",
    "y_test = lb.fit_transform(y_test)"
   ]
  },
  {
   "cell_type": "code",
   "execution_count": 130,
   "metadata": {},
   "outputs": [
    {
     "data": {
      "text/plain": [
       "array([[0, 0, 0, 0, 1, 0, 0, 0, 0, 0],\n",
       "       [1, 0, 0, 0, 0, 0, 0, 0, 0, 0],\n",
       "       [0, 1, 0, 0, 0, 0, 0, 0, 0, 0]])"
      ]
     },
     "execution_count": 130,
     "metadata": {},
     "output_type": "execute_result"
    }
   ],
   "source": [
    "# Test binarization\n",
    "y_test[:3]"
   ]
  },
  {
   "cell_type": "code",
   "execution_count": 131,
   "metadata": {},
   "outputs": [],
   "source": [
    "# WORD EMBEDDINGS\n",
    "def word_embedding(X_train, X_test, tokenizer):\n",
    "    \"\"\"\n",
    "    Function that takes training and test data and returns them as tokenized\n",
    "    \"\"\"\n",
    "    # fit to training data - fit to the raw text data. vocabolary of 10000 words now fit onto our training data\n",
    "    tokenizer.fit_on_texts(X_train)\n",
    "    \n",
    "    # tokenized training and test data\n",
    "    X_train_toks = tokenizer.texts_to_sequences(X_train)\n",
    "    X_test_toks = tokenizer.texts_to_sequences(X_test)\n",
    "    \n",
    "    # overall vocabulary size\n",
    "    vocab_size = len(tokenizer.word_index) + 1  # Adding 1 because of reserved 0 index\n",
    "\n",
    "    return(X_train_toks, X_test_toks, vocab_size)\n",
    "\n",
    "# Function to create embedding matrix\n",
    "def create_embedding_matrix(filepath, word_index, embedding_dim):\n",
    "    \"\"\" \n",
    "    A helper function to read in saved GloVe embeddings and create an embedding matrix\n",
    "    \n",
    "    filepath: path to GloVe embedding\n",
    "    word_index: indices from keras Tokenizer\n",
    "    embedding_dim: dimensions of keras embedding layer\n",
    "    \"\"\"\n",
    "    vocab_size = len(word_index) + 1  # Adding 1 because of reserved 0 index\n",
    "    embedding_matrix = np.zeros((vocab_size, embedding_dim))\n",
    "\n",
    "    with open(filepath) as f:\n",
    "        for line in f:\n",
    "            word, *vector = line.split()\n",
    "            if word in word_index:\n",
    "                idx = word_index[word] \n",
    "                embedding_matrix[idx] = np.array(\n",
    "                    vector, dtype=np.float32)[:embedding_dim]\n",
    "\n",
    "    return embedding_matrix"
   ]
  },
  {
   "cell_type": "code",
   "execution_count": 132,
   "metadata": {},
   "outputs": [],
   "source": [
    "### Padding\n",
    "def pad_me(X_train_toks, X_test_toks, balanced):\n",
    "    \"\"\"\n",
    "    Function that takes the tokenized train and test data as well as the balanced data. Both the train and\n",
    "    the test data is padded to correspond to the max chunk length extracted from the balanced data. \n",
    "    The function returns the padded train and test data as well as the max length.\n",
    "    \"\"\"\n",
    "    # Create a new column 'totalwords' in in balanced and get the max length of a chunk\n",
    "    balanced['totalwords'] = balanced['line_chunks'].str.split().str.len()\n",
    "    maxlen = int(balanced[balanced['totalwords'] == balanced['totalwords'].max()]['totalwords'])\n",
    "\n",
    "    # pad training data to maxlen\n",
    "    X_train_pad = pad_sequences(X_train_toks, \n",
    "                                padding='post', # sequences can be padded \"pre\" or \"post\"\n",
    "                                maxlen=maxlen)  # maximum length\n",
    "    # pad testing data to maxlen\n",
    "    X_test_pad = pad_sequences(X_test_toks, \n",
    "                               padding='post', \n",
    "                               maxlen=maxlen)\n",
    "\n",
    "    return(X_train_pad, X_test_pad, maxlen)"
   ]
  },
  {
   "cell_type": "code",
   "execution_count": 133,
   "metadata": {},
   "outputs": [],
   "source": [
    "# Word embedding - Change the strings of texts into numerical representations taking context into account\n",
    "tokenizer = Tokenizer(num_words = 10000) # initialize tokenizer\n",
    "X_train_toks, X_test_toks, vocab_size = word_embedding(X_train, X_test, tokenizer)"
   ]
  },
  {
   "cell_type": "code",
   "execution_count": 134,
   "metadata": {},
   "outputs": [],
   "source": [
    "# Padding\n",
    "X_train_pad, X_test_pad, maxlen = pad_me(X_train_toks, X_test_toks, balanced)"
   ]
  },
  {
   "cell_type": "code",
   "execution_count": 135,
   "metadata": {},
   "outputs": [],
   "source": [
    "# Word embedding matrix\n",
    "\"\"\"create embedding matrix with the words that appear in the data. \n",
    "We use the embedding matrix as weights (pretrained word embeddings rather \n",
    "than just learning weights from our own data)\"\"\"\n",
    "embedding_matrix = create_embedding_matrix('glove.6B.50d.txt',\n",
    "                                               tokenizer.word_index, \n",
    "                                               embedding_dim)"
   ]
  },
  {
   "cell_type": "code",
   "execution_count": 136,
   "metadata": {},
   "outputs": [],
   "source": [
    "# Create regularizer \n",
    "l2 = L2(0.0001)"
   ]
  },
  {
   "cell_type": "code",
   "execution_count": 137,
   "metadata": {},
   "outputs": [],
   "source": [
    "\n",
    "model = Sequential()\n",
    "    \n",
    "# Embedding -> CONV+ReLU -> MaxPool -> FC+ReLU -> Out\n",
    "model.add(Embedding(vocab_size,                  # vocab size from Tokenizer()\n",
    "                    embedding_dim,               # embedding input layer size\n",
    "                    weights=[embedding_matrix],  # pretrained embeddings\n",
    "                    input_length=maxlen,         # maxlen of padded doc\n",
    "                    trainable = trainable_embeddings))                  # trainable embeddings\n",
    "\n",
    "model.add(Conv1D(128, 5, # added at the convolutional layer\n",
    "                activation='relu',\n",
    "                kernel_regularizer=l2))          # L2 regularization \n",
    "model.add(GlobalMaxPool1D())\n",
    "model.add(Dense((n*4), activation='relu', kernel_regularizer=l2))\n",
    "model.add(Dense(n, activation='softmax'))\n",
    "    \n",
    "# compile\n",
    "model.compile(loss='categorical_crossentropy',\n",
    "              optimizer=\"adam\",\n",
    "              metrics=['accuracy'])\n",
    "    \n"
   ]
  },
  {
   "cell_type": "code",
   "execution_count": 138,
   "metadata": {},
   "outputs": [
    {
     "name": "stdout",
     "output_type": "stream",
     "text": [
      "Training Accuracy: 1.0000\n",
      "Testing Accuracy:  0.7200\n"
     ]
    }
   ],
   "source": [
    "# Fit the model\n",
    "history = model.fit(X_train_pad, y_train,\n",
    "                epochs=20,\n",
    "                verbose=False,\n",
    "                validation_data=(X_test_pad, y_test),\n",
    "                batch_size=10)\n",
    "\n",
    "# evaluate and print accuracy to terminal + save to out folder\n",
    "loss_train, accuracy_train = model.evaluate(X_train_pad, y_train, verbose=False)\n",
    "print(\"Training Accuracy: {:.4f}\".format(accuracy_train))\n",
    "loss_test, accuracy_test = model.evaluate(X_test_pad, y_test, verbose=False)\n",
    "print(\"Testing Accuracy:  {:.4f}\".format(accuracy_test))"
   ]
  },
  {
   "cell_type": "code",
   "execution_count": null,
   "metadata": {},
   "outputs": [],
   "source": []
  },
  {
   "cell_type": "code",
   "execution_count": 139,
   "metadata": {},
   "outputs": [
    {
     "data": {
      "image/png": "[encoded data removed]",
      "text/plain": [
       "<Figure size 432x288 with 1 Axes>"
      ]
     },
     "metadata": {},
     "output_type": "display_data"
    }
   ],
   "source": [
    "def plot_history(H, epochs, filename):\n",
    "    \"\"\"\n",
    "    Utility function for plotting model history using matplotlib\n",
    "    H: model history \n",
    "    epochs: number of epochs for which the model was trained\n",
    "    \n",
    "    The function has been made by Ross and only slightly motified to save the output:\n",
    "    https://github.com/CDS-AU-DK/cds-visual/blob/main/notebooks/session9.ipynb\n",
    "    \"\"\"\n",
    "    plt.style.use(\"fivethirtyeight\")\n",
    "    plt.figure()\n",
    "    plt.plot(np.arange(0, epochs), H.history[\"loss\"], label=\"train_loss\")\n",
    "    plt.plot(np.arange(0, epochs), H.history[\"val_loss\"], label=\"val_loss\")\n",
    "    plt.plot(np.arange(0, epochs), H.history[\"accuracy\"], label=\"train_acc\")\n",
    "    plt.plot(np.arange(0, epochs), H.history[\"val_accuracy\"], label=\"val_acc\")\n",
    "    plt.title(\"Training Loss and Accuracy\")\n",
    "    plt.xlabel(\"Epoch #\")\n",
    "    plt.ylabel(\"Loss/Accuracy\")\n",
    "    plt.legend()\n",
    "    plt.tight_layout()\n",
    "    plt.savefig(f\"out/{filename}\")\n",
    "\n",
    "plot_history(history, epochs = 20, filename = \"DLM_TraininglossAccuracy.png\")"
   ]
  },
  {
   "cell_type": "code",
   "execution_count": 61,
   "metadata": {},
   "outputs": [],
   "source": [
    "# Create heatmap visualisation\n",
    "def plot_cm(y_test, y_pred, normalized:bool):\n",
    "    \"\"\"\n",
    "    Plot confusion matrix\n",
    "    \"\"\"\n",
    "    if normalized == False:\n",
    "        cm = pd.crosstab(y_test, y_pred, \n",
    "                            rownames=['Actual'], colnames=['Predicted'])\n",
    "        p = plt.figure(figsize=(10,10));\n",
    "        p = sns.heatmap(cm, annot=True, fmt=\"d\", cbar=False)\n",
    "    elif normalized == True:\n",
    "        cm = pd.crosstab(y_test, y_pred, \n",
    "                               rownames=['Actual'], colnames=['Predicted'], normalize='index')\n",
    "        p = plt.figure(figsize=(10,10));\n",
    "        p = sns.heatmap(cm, annot=True, fmt=\".2f\", cbar=False)\n",
    "\n",
    "        return None"
   ]
  },
  {
   "cell_type": "code",
   "execution_count": 142,
   "metadata": {},
   "outputs": [
    {
     "name": "stdout",
     "output_type": "stream",
     "text": [
      "WARNING:tensorflow:Model was constructed with shape (None, 599) for input KerasTensor(type_spec=TensorSpec(shape=(None, 599), dtype=tf.float32, name='embedding_3_input'), name='embedding_3_input', description=\"created by layer 'embedding_3_input'\"), but it was called on an input with incompatible shape (None, 1).\n"
     ]
    },
    {
     "ename": "ValueError",
     "evalue": "in user code:\n\n    /home/cds-au613522/cds-language/my_repo_language_github/LanguageAnalytics/assignment7_WineClassification/Wine_env/lib/python3.6/site-packages/tensorflow/python/keras/engine/training.py:1478 predict_function  *\n        return step_function(self, iterator)\n    /home/cds-au613522/cds-language/my_repo_language_github/LanguageAnalytics/assignment7_WineClassification/Wine_env/lib/python3.6/site-packages/tensorflow/python/keras/engine/training.py:1468 step_function  **\n        outputs = model.distribute_strategy.run(run_step, args=(data,))\n    /home/cds-au613522/cds-language/my_repo_language_github/LanguageAnalytics/assignment7_WineClassification/Wine_env/lib/python3.6/site-packages/tensorflow/python/distribute/distribute_lib.py:1259 run\n        return self._extended.call_for_each_replica(fn, args=args, kwargs=kwargs)\n    /home/cds-au613522/cds-language/my_repo_language_github/LanguageAnalytics/assignment7_WineClassification/Wine_env/lib/python3.6/site-packages/tensorflow/python/distribute/distribute_lib.py:2730 call_for_each_replica\n        return self._call_for_each_replica(fn, args, kwargs)\n    /home/cds-au613522/cds-language/my_repo_language_github/LanguageAnalytics/assignment7_WineClassification/Wine_env/lib/python3.6/site-packages/tensorflow/python/distribute/distribute_lib.py:3417 _call_for_each_replica\n        return fn(*args, **kwargs)\n    /home/cds-au613522/cds-language/my_repo_language_github/LanguageAnalytics/assignment7_WineClassification/Wine_env/lib/python3.6/site-packages/tensorflow/python/keras/engine/training.py:1461 run_step  **\n        outputs = model.predict_step(data)\n    /home/cds-au613522/cds-language/my_repo_language_github/LanguageAnalytics/assignment7_WineClassification/Wine_env/lib/python3.6/site-packages/tensorflow/python/keras/engine/training.py:1434 predict_step\n        return self(x, training=False)\n    /home/cds-au613522/cds-language/my_repo_language_github/LanguageAnalytics/assignment7_WineClassification/Wine_env/lib/python3.6/site-packages/tensorflow/python/keras/engine/base_layer.py:1012 __call__\n        outputs = call_fn(inputs, *args, **kwargs)\n    /home/cds-au613522/cds-language/my_repo_language_github/LanguageAnalytics/assignment7_WineClassification/Wine_env/lib/python3.6/site-packages/tensorflow/python/keras/engine/sequential.py:375 call\n        return super(Sequential, self).call(inputs, training=training, mask=mask)\n    /home/cds-au613522/cds-language/my_repo_language_github/LanguageAnalytics/assignment7_WineClassification/Wine_env/lib/python3.6/site-packages/tensorflow/python/keras/engine/functional.py:425 call\n        inputs, training=training, mask=mask)\n    /home/cds-au613522/cds-language/my_repo_language_github/LanguageAnalytics/assignment7_WineClassification/Wine_env/lib/python3.6/site-packages/tensorflow/python/keras/engine/functional.py:560 _run_internal_graph\n        outputs = node.layer(*args, **kwargs)\n    /home/cds-au613522/cds-language/my_repo_language_github/LanguageAnalytics/assignment7_WineClassification/Wine_env/lib/python3.6/site-packages/tensorflow/python/keras/engine/base_layer.py:1012 __call__\n        outputs = call_fn(inputs, *args, **kwargs)\n    /home/cds-au613522/cds-language/my_repo_language_github/LanguageAnalytics/assignment7_WineClassification/Wine_env/lib/python3.6/site-packages/tensorflow/python/keras/layers/convolutional.py:248 call\n        outputs = self._convolution_op(inputs, self.kernel)\n    /home/cds-au613522/cds-language/my_repo_language_github/LanguageAnalytics/assignment7_WineClassification/Wine_env/lib/python3.6/site-packages/tensorflow/python/util/dispatch.py:201 wrapper\n        return target(*args, **kwargs)\n    /home/cds-au613522/cds-language/my_repo_language_github/LanguageAnalytics/assignment7_WineClassification/Wine_env/lib/python3.6/site-packages/tensorflow/python/ops/nn_ops.py:1020 convolution_v2\n        name=name)\n    /home/cds-au613522/cds-language/my_repo_language_github/LanguageAnalytics/assignment7_WineClassification/Wine_env/lib/python3.6/site-packages/tensorflow/python/ops/nn_ops.py:1150 convolution_internal\n        name=name)\n    /home/cds-au613522/cds-language/my_repo_language_github/LanguageAnalytics/assignment7_WineClassification/Wine_env/lib/python3.6/site-packages/tensorflow/python/util/dispatch.py:201 wrapper\n        return target(*args, **kwargs)\n    /home/cds-au613522/cds-language/my_repo_language_github/LanguageAnalytics/assignment7_WineClassification/Wine_env/lib/python3.6/site-packages/tensorflow/python/util/deprecation.py:605 new_func\n        return func(*args, **kwargs)\n    /home/cds-au613522/cds-language/my_repo_language_github/LanguageAnalytics/assignment7_WineClassification/Wine_env/lib/python3.6/site-packages/tensorflow/python/util/deprecation.py:605 new_func\n        return func(*args, **kwargs)\n    /home/cds-au613522/cds-language/my_repo_language_github/LanguageAnalytics/assignment7_WineClassification/Wine_env/lib/python3.6/site-packages/tensorflow/python/ops/nn_ops.py:1893 conv1d\n        name=name)\n    /home/cds-au613522/cds-language/my_repo_language_github/LanguageAnalytics/assignment7_WineClassification/Wine_env/lib/python3.6/site-packages/tensorflow/python/ops/gen_nn_ops.py:973 conv2d\n        data_format=data_format, dilations=dilations, name=name)\n    /home/cds-au613522/cds-language/my_repo_language_github/LanguageAnalytics/assignment7_WineClassification/Wine_env/lib/python3.6/site-packages/tensorflow/python/framework/op_def_library.py:750 _apply_op_helper\n        attrs=attr_protos, op_def=op_def)\n    /home/cds-au613522/cds-language/my_repo_language_github/LanguageAnalytics/assignment7_WineClassification/Wine_env/lib/python3.6/site-packages/tensorflow/python/framework/func_graph.py:592 _create_op_internal\n        compute_device)\n    /home/cds-au613522/cds-language/my_repo_language_github/LanguageAnalytics/assignment7_WineClassification/Wine_env/lib/python3.6/site-packages/tensorflow/python/framework/ops.py:3536 _create_op_internal\n        op_def=op_def)\n    /home/cds-au613522/cds-language/my_repo_language_github/LanguageAnalytics/assignment7_WineClassification/Wine_env/lib/python3.6/site-packages/tensorflow/python/framework/ops.py:2016 __init__\n        control_input_ops, op_def)\n    /home/cds-au613522/cds-language/my_repo_language_github/LanguageAnalytics/assignment7_WineClassification/Wine_env/lib/python3.6/site-packages/tensorflow/python/framework/ops.py:1856 _create_c_op\n        raise ValueError(str(e))\n\n    ValueError: Negative dimension size caused by subtracting 5 from 1 for '{{node sequential_3/conv1d_3/conv1d}} = Conv2D[T=DT_FLOAT, data_format=\"NHWC\", dilations=[1, 1, 1, 1], explicit_paddings=[], padding=\"VALID\", strides=[1, 1, 1, 1], use_cudnn_on_gpu=true](sequential_3/conv1d_3/conv1d/ExpandDims, sequential_3/conv1d_3/conv1d/ExpandDims_1)' with input shapes: [?,1,1,50], [1,5,50,128].\n",
     "output_type": "error",
     "traceback": [
      "\u001b[0;31m---------------------------------------------------------------------------\u001b[0m",
      "\u001b[0;31mValueError\u001b[0m                                Traceback (most recent call last)",
      "\u001b[0;32m<ipython-input-142-decd67bbf386>\u001b[0m in \u001b[0;36m<module>\u001b[0;34m\u001b[0m\n\u001b[0;32m----> 1\u001b[0;31m \u001b[0mmodel\u001b[0m\u001b[0;34m.\u001b[0m\u001b[0mpredict\u001b[0m\u001b[0;34m(\u001b[0m\u001b[0mX_test\u001b[0m\u001b[0;34m)\u001b[0m\u001b[0;34m\u001b[0m\u001b[0;34m\u001b[0m\u001b[0m\n\u001b[0m",
      "\u001b[0;32m~/cds-language/my_repo_language_github/LanguageAnalytics/assignment7_WineClassification/Wine_env/lib/python3.6/site-packages/tensorflow/python/keras/engine/training.py\u001b[0m in \u001b[0;36mpredict\u001b[0;34m(self, x, batch_size, verbose, steps, callbacks, max_queue_size, workers, use_multiprocessing)\u001b[0m\n\u001b[1;32m   1627\u001b[0m           \u001b[0;32mfor\u001b[0m \u001b[0mstep\u001b[0m \u001b[0;32min\u001b[0m \u001b[0mdata_handler\u001b[0m\u001b[0;34m.\u001b[0m\u001b[0msteps\u001b[0m\u001b[0;34m(\u001b[0m\u001b[0;34m)\u001b[0m\u001b[0;34m:\u001b[0m\u001b[0;34m\u001b[0m\u001b[0;34m\u001b[0m\u001b[0m\n\u001b[1;32m   1628\u001b[0m             \u001b[0mcallbacks\u001b[0m\u001b[0;34m.\u001b[0m\u001b[0mon_predict_batch_begin\u001b[0m\u001b[0;34m(\u001b[0m\u001b[0mstep\u001b[0m\u001b[0;34m)\u001b[0m\u001b[0;34m\u001b[0m\u001b[0;34m\u001b[0m\u001b[0m\n\u001b[0;32m-> 1629\u001b[0;31m             \u001b[0mtmp_batch_outputs\u001b[0m \u001b[0;34m=\u001b[0m \u001b[0mself\u001b[0m\u001b[0;34m.\u001b[0m\u001b[0mpredict_function\u001b[0m\u001b[0;34m(\u001b[0m\u001b[0miterator\u001b[0m\u001b[0;34m)\u001b[0m\u001b[0;34m\u001b[0m\u001b[0;34m\u001b[0m\u001b[0m\n\u001b[0m\u001b[1;32m   1630\u001b[0m             \u001b[0;32mif\u001b[0m \u001b[0mdata_handler\u001b[0m\u001b[0;34m.\u001b[0m\u001b[0mshould_sync\u001b[0m\u001b[0;34m:\u001b[0m\u001b[0;34m\u001b[0m\u001b[0;34m\u001b[0m\u001b[0m\n\u001b[1;32m   1631\u001b[0m               \u001b[0mcontext\u001b[0m\u001b[0;34m.\u001b[0m\u001b[0masync_wait\u001b[0m\u001b[0;34m(\u001b[0m\u001b[0;34m)\u001b[0m\u001b[0;34m\u001b[0m\u001b[0;34m\u001b[0m\u001b[0m\n",
      "\u001b[0;32m~/cds-language/my_repo_language_github/LanguageAnalytics/assignment7_WineClassification/Wine_env/lib/python3.6/site-packages/tensorflow/python/eager/def_function.py\u001b[0m in \u001b[0;36m__call__\u001b[0;34m(self, *args, **kwds)\u001b[0m\n\u001b[1;32m    826\u001b[0m     \u001b[0mtracing_count\u001b[0m \u001b[0;34m=\u001b[0m \u001b[0mself\u001b[0m\u001b[0;34m.\u001b[0m\u001b[0mexperimental_get_tracing_count\u001b[0m\u001b[0;34m(\u001b[0m\u001b[0;34m)\u001b[0m\u001b[0;34m\u001b[0m\u001b[0;34m\u001b[0m\u001b[0m\n\u001b[1;32m    827\u001b[0m     \u001b[0;32mwith\u001b[0m \u001b[0mtrace\u001b[0m\u001b[0;34m.\u001b[0m\u001b[0mTrace\u001b[0m\u001b[0;34m(\u001b[0m\u001b[0mself\u001b[0m\u001b[0;34m.\u001b[0m\u001b[0m_name\u001b[0m\u001b[0;34m)\u001b[0m \u001b[0;32mas\u001b[0m \u001b[0mtm\u001b[0m\u001b[0;34m:\u001b[0m\u001b[0;34m\u001b[0m\u001b[0;34m\u001b[0m\u001b[0m\n\u001b[0;32m--> 828\u001b[0;31m       \u001b[0mresult\u001b[0m \u001b[0;34m=\u001b[0m \u001b[0mself\u001b[0m\u001b[0;34m.\u001b[0m\u001b[0m_call\u001b[0m\u001b[0;34m(\u001b[0m\u001b[0;34m*\u001b[0m\u001b[0margs\u001b[0m\u001b[0;34m,\u001b[0m \u001b[0;34m**\u001b[0m\u001b[0mkwds\u001b[0m\u001b[0;34m)\u001b[0m\u001b[0;34m\u001b[0m\u001b[0;34m\u001b[0m\u001b[0m\n\u001b[0m\u001b[1;32m    829\u001b[0m       \u001b[0mcompiler\u001b[0m \u001b[0;34m=\u001b[0m \u001b[0;34m\"xla\"\u001b[0m \u001b[0;32mif\u001b[0m \u001b[0mself\u001b[0m\u001b[0;34m.\u001b[0m\u001b[0m_experimental_compile\u001b[0m \u001b[0;32melse\u001b[0m \u001b[0;34m\"nonXla\"\u001b[0m\u001b[0;34m\u001b[0m\u001b[0;34m\u001b[0m\u001b[0m\n\u001b[1;32m    830\u001b[0m       \u001b[0mnew_tracing_count\u001b[0m \u001b[0;34m=\u001b[0m \u001b[0mself\u001b[0m\u001b[0;34m.\u001b[0m\u001b[0mexperimental_get_tracing_count\u001b[0m\u001b[0;34m(\u001b[0m\u001b[0;34m)\u001b[0m\u001b[0;34m\u001b[0m\u001b[0;34m\u001b[0m\u001b[0m\n",
      "\u001b[0;32m~/cds-language/my_repo_language_github/LanguageAnalytics/assignment7_WineClassification/Wine_env/lib/python3.6/site-packages/tensorflow/python/eager/def_function.py\u001b[0m in \u001b[0;36m_call\u001b[0;34m(self, *args, **kwds)\u001b[0m\n\u001b[1;32m    860\u001b[0m       \u001b[0;31m# In this case we have not created variables on the first call. So we can\u001b[0m\u001b[0;34m\u001b[0m\u001b[0;34m\u001b[0m\u001b[0;34m\u001b[0m\u001b[0m\n\u001b[1;32m    861\u001b[0m       \u001b[0;31m# run the first trace but we should fail if variables are created.\u001b[0m\u001b[0;34m\u001b[0m\u001b[0;34m\u001b[0m\u001b[0;34m\u001b[0m\u001b[0m\n\u001b[0;32m--> 862\u001b[0;31m       \u001b[0mresults\u001b[0m \u001b[0;34m=\u001b[0m \u001b[0mself\u001b[0m\u001b[0;34m.\u001b[0m\u001b[0m_stateful_fn\u001b[0m\u001b[0;34m(\u001b[0m\u001b[0;34m*\u001b[0m\u001b[0margs\u001b[0m\u001b[0;34m,\u001b[0m \u001b[0;34m**\u001b[0m\u001b[0mkwds\u001b[0m\u001b[0;34m)\u001b[0m\u001b[0;34m\u001b[0m\u001b[0;34m\u001b[0m\u001b[0m\n\u001b[0m\u001b[1;32m    863\u001b[0m       \u001b[0;32mif\u001b[0m \u001b[0mself\u001b[0m\u001b[0;34m.\u001b[0m\u001b[0m_created_variables\u001b[0m\u001b[0;34m:\u001b[0m\u001b[0;34m\u001b[0m\u001b[0;34m\u001b[0m\u001b[0m\n\u001b[1;32m    864\u001b[0m         raise ValueError(\"Creating variables on a non-first call to a function\"\n",
      "\u001b[0;32m~/cds-language/my_repo_language_github/LanguageAnalytics/assignment7_WineClassification/Wine_env/lib/python3.6/site-packages/tensorflow/python/eager/function.py\u001b[0m in \u001b[0;36m__call__\u001b[0;34m(self, *args, **kwargs)\u001b[0m\n\u001b[1;32m   2939\u001b[0m     \u001b[0;32mwith\u001b[0m \u001b[0mself\u001b[0m\u001b[0;34m.\u001b[0m\u001b[0m_lock\u001b[0m\u001b[0;34m:\u001b[0m\u001b[0;34m\u001b[0m\u001b[0;34m\u001b[0m\u001b[0m\n\u001b[1;32m   2940\u001b[0m       (graph_function,\n\u001b[0;32m-> 2941\u001b[0;31m        filtered_flat_args) = self._maybe_define_function(args, kwargs)\n\u001b[0m\u001b[1;32m   2942\u001b[0m     return graph_function._call_flat(\n\u001b[1;32m   2943\u001b[0m         filtered_flat_args, captured_inputs=graph_function.captured_inputs)  # pylint: disable=protected-access\n",
      "\u001b[0;32m~/cds-language/my_repo_language_github/LanguageAnalytics/assignment7_WineClassification/Wine_env/lib/python3.6/site-packages/tensorflow/python/eager/function.py\u001b[0m in \u001b[0;36m_maybe_define_function\u001b[0;34m(self, args, kwargs)\u001b[0m\n\u001b[1;32m   3356\u001b[0m               call_context_key in self._function_cache.missed):\n\u001b[1;32m   3357\u001b[0m             return self._define_function_with_shape_relaxation(\n\u001b[0;32m-> 3358\u001b[0;31m                 args, kwargs, flat_args, filtered_flat_args, cache_key_context)\n\u001b[0m\u001b[1;32m   3359\u001b[0m \u001b[0;34m\u001b[0m\u001b[0m\n\u001b[1;32m   3360\u001b[0m           \u001b[0mself\u001b[0m\u001b[0;34m.\u001b[0m\u001b[0m_function_cache\u001b[0m\u001b[0;34m.\u001b[0m\u001b[0mmissed\u001b[0m\u001b[0;34m.\u001b[0m\u001b[0madd\u001b[0m\u001b[0;34m(\u001b[0m\u001b[0mcall_context_key\u001b[0m\u001b[0;34m)\u001b[0m\u001b[0;34m\u001b[0m\u001b[0;34m\u001b[0m\u001b[0m\n",
      "\u001b[0;32m~/cds-language/my_repo_language_github/LanguageAnalytics/assignment7_WineClassification/Wine_env/lib/python3.6/site-packages/tensorflow/python/eager/function.py\u001b[0m in \u001b[0;36m_define_function_with_shape_relaxation\u001b[0;34m(self, args, kwargs, flat_args, filtered_flat_args, cache_key_context)\u001b[0m\n\u001b[1;32m   3278\u001b[0m \u001b[0;34m\u001b[0m\u001b[0m\n\u001b[1;32m   3279\u001b[0m     graph_function = self._create_graph_function(\n\u001b[0;32m-> 3280\u001b[0;31m         args, kwargs, override_flat_arg_shapes=relaxed_arg_shapes)\n\u001b[0m\u001b[1;32m   3281\u001b[0m     \u001b[0mself\u001b[0m\u001b[0;34m.\u001b[0m\u001b[0m_function_cache\u001b[0m\u001b[0;34m.\u001b[0m\u001b[0marg_relaxed\u001b[0m\u001b[0;34m[\u001b[0m\u001b[0mrank_only_cache_key\u001b[0m\u001b[0;34m]\u001b[0m \u001b[0;34m=\u001b[0m \u001b[0mgraph_function\u001b[0m\u001b[0;34m\u001b[0m\u001b[0;34m\u001b[0m\u001b[0m\n\u001b[1;32m   3282\u001b[0m \u001b[0;34m\u001b[0m\u001b[0m\n",
      "\u001b[0;32m~/cds-language/my_repo_language_github/LanguageAnalytics/assignment7_WineClassification/Wine_env/lib/python3.6/site-packages/tensorflow/python/eager/function.py\u001b[0m in \u001b[0;36m_create_graph_function\u001b[0;34m(self, args, kwargs, override_flat_arg_shapes)\u001b[0m\n\u001b[1;32m   3204\u001b[0m             \u001b[0marg_names\u001b[0m\u001b[0;34m=\u001b[0m\u001b[0marg_names\u001b[0m\u001b[0;34m,\u001b[0m\u001b[0;34m\u001b[0m\u001b[0;34m\u001b[0m\u001b[0m\n\u001b[1;32m   3205\u001b[0m             \u001b[0moverride_flat_arg_shapes\u001b[0m\u001b[0;34m=\u001b[0m\u001b[0moverride_flat_arg_shapes\u001b[0m\u001b[0;34m,\u001b[0m\u001b[0;34m\u001b[0m\u001b[0;34m\u001b[0m\u001b[0m\n\u001b[0;32m-> 3206\u001b[0;31m             capture_by_value=self._capture_by_value),\n\u001b[0m\u001b[1;32m   3207\u001b[0m         \u001b[0mself\u001b[0m\u001b[0;34m.\u001b[0m\u001b[0m_function_attributes\u001b[0m\u001b[0;34m,\u001b[0m\u001b[0;34m\u001b[0m\u001b[0;34m\u001b[0m\u001b[0m\n\u001b[1;32m   3208\u001b[0m         \u001b[0mfunction_spec\u001b[0m\u001b[0;34m=\u001b[0m\u001b[0mself\u001b[0m\u001b[0;34m.\u001b[0m\u001b[0mfunction_spec\u001b[0m\u001b[0;34m,\u001b[0m\u001b[0;34m\u001b[0m\u001b[0;34m\u001b[0m\u001b[0m\n",
      "\u001b[0;32m~/cds-language/my_repo_language_github/LanguageAnalytics/assignment7_WineClassification/Wine_env/lib/python3.6/site-packages/tensorflow/python/framework/func_graph.py\u001b[0m in \u001b[0;36mfunc_graph_from_py_func\u001b[0;34m(name, python_func, args, kwargs, signature, func_graph, autograph, autograph_options, add_control_dependencies, arg_names, op_return_value, collections, capture_by_value, override_flat_arg_shapes)\u001b[0m\n\u001b[1;32m    988\u001b[0m         \u001b[0m_\u001b[0m\u001b[0;34m,\u001b[0m \u001b[0moriginal_func\u001b[0m \u001b[0;34m=\u001b[0m \u001b[0mtf_decorator\u001b[0m\u001b[0;34m.\u001b[0m\u001b[0munwrap\u001b[0m\u001b[0;34m(\u001b[0m\u001b[0mpython_func\u001b[0m\u001b[0;34m)\u001b[0m\u001b[0;34m\u001b[0m\u001b[0;34m\u001b[0m\u001b[0m\n\u001b[1;32m    989\u001b[0m \u001b[0;34m\u001b[0m\u001b[0m\n\u001b[0;32m--> 990\u001b[0;31m       \u001b[0mfunc_outputs\u001b[0m \u001b[0;34m=\u001b[0m \u001b[0mpython_func\u001b[0m\u001b[0;34m(\u001b[0m\u001b[0;34m*\u001b[0m\u001b[0mfunc_args\u001b[0m\u001b[0;34m,\u001b[0m \u001b[0;34m**\u001b[0m\u001b[0mfunc_kwargs\u001b[0m\u001b[0;34m)\u001b[0m\u001b[0;34m\u001b[0m\u001b[0;34m\u001b[0m\u001b[0m\n\u001b[0m\u001b[1;32m    991\u001b[0m \u001b[0;34m\u001b[0m\u001b[0m\n\u001b[1;32m    992\u001b[0m       \u001b[0;31m# invariant: `func_outputs` contains only Tensors, CompositeTensors,\u001b[0m\u001b[0;34m\u001b[0m\u001b[0;34m\u001b[0m\u001b[0;34m\u001b[0m\u001b[0m\n",
      "\u001b[0;32m~/cds-language/my_repo_language_github/LanguageAnalytics/assignment7_WineClassification/Wine_env/lib/python3.6/site-packages/tensorflow/python/eager/def_function.py\u001b[0m in \u001b[0;36mwrapped_fn\u001b[0;34m(*args, **kwds)\u001b[0m\n\u001b[1;32m    632\u001b[0m             \u001b[0mxla_context\u001b[0m\u001b[0;34m.\u001b[0m\u001b[0mExit\u001b[0m\u001b[0;34m(\u001b[0m\u001b[0;34m)\u001b[0m\u001b[0;34m\u001b[0m\u001b[0;34m\u001b[0m\u001b[0m\n\u001b[1;32m    633\u001b[0m         \u001b[0;32melse\u001b[0m\u001b[0;34m:\u001b[0m\u001b[0;34m\u001b[0m\u001b[0;34m\u001b[0m\u001b[0m\n\u001b[0;32m--> 634\u001b[0;31m           \u001b[0mout\u001b[0m \u001b[0;34m=\u001b[0m \u001b[0mweak_wrapped_fn\u001b[0m\u001b[0;34m(\u001b[0m\u001b[0;34m)\u001b[0m\u001b[0;34m.\u001b[0m\u001b[0m__wrapped__\u001b[0m\u001b[0;34m(\u001b[0m\u001b[0;34m*\u001b[0m\u001b[0margs\u001b[0m\u001b[0;34m,\u001b[0m \u001b[0;34m**\u001b[0m\u001b[0mkwds\u001b[0m\u001b[0;34m)\u001b[0m\u001b[0;34m\u001b[0m\u001b[0;34m\u001b[0m\u001b[0m\n\u001b[0m\u001b[1;32m    635\u001b[0m         \u001b[0;32mreturn\u001b[0m \u001b[0mout\u001b[0m\u001b[0;34m\u001b[0m\u001b[0;34m\u001b[0m\u001b[0m\n\u001b[1;32m    636\u001b[0m \u001b[0;34m\u001b[0m\u001b[0m\n",
      "\u001b[0;32m~/cds-language/my_repo_language_github/LanguageAnalytics/assignment7_WineClassification/Wine_env/lib/python3.6/site-packages/tensorflow/python/framework/func_graph.py\u001b[0m in \u001b[0;36mwrapper\u001b[0;34m(*args, **kwargs)\u001b[0m\n\u001b[1;32m    975\u001b[0m           \u001b[0;32mexcept\u001b[0m \u001b[0mException\u001b[0m \u001b[0;32mas\u001b[0m \u001b[0me\u001b[0m\u001b[0;34m:\u001b[0m  \u001b[0;31m# pylint:disable=broad-except\u001b[0m\u001b[0;34m\u001b[0m\u001b[0;34m\u001b[0m\u001b[0m\n\u001b[1;32m    976\u001b[0m             \u001b[0;32mif\u001b[0m \u001b[0mhasattr\u001b[0m\u001b[0;34m(\u001b[0m\u001b[0me\u001b[0m\u001b[0;34m,\u001b[0m \u001b[0;34m\"ag_error_metadata\"\u001b[0m\u001b[0;34m)\u001b[0m\u001b[0;34m:\u001b[0m\u001b[0;34m\u001b[0m\u001b[0;34m\u001b[0m\u001b[0m\n\u001b[0;32m--> 977\u001b[0;31m               \u001b[0;32mraise\u001b[0m \u001b[0me\u001b[0m\u001b[0;34m.\u001b[0m\u001b[0mag_error_metadata\u001b[0m\u001b[0;34m.\u001b[0m\u001b[0mto_exception\u001b[0m\u001b[0;34m(\u001b[0m\u001b[0me\u001b[0m\u001b[0;34m)\u001b[0m\u001b[0;34m\u001b[0m\u001b[0;34m\u001b[0m\u001b[0m\n\u001b[0m\u001b[1;32m    978\u001b[0m             \u001b[0;32melse\u001b[0m\u001b[0;34m:\u001b[0m\u001b[0;34m\u001b[0m\u001b[0;34m\u001b[0m\u001b[0m\n\u001b[1;32m    979\u001b[0m               \u001b[0;32mraise\u001b[0m\u001b[0;34m\u001b[0m\u001b[0;34m\u001b[0m\u001b[0m\n",
      "\u001b[0;31mValueError\u001b[0m: in user code:\n\n    /home/cds-au613522/cds-language/my_repo_language_github/LanguageAnalytics/assignment7_WineClassification/Wine_env/lib/python3.6/site-packages/tensorflow/python/keras/engine/training.py:1478 predict_function  *\n        return step_function(self, iterator)\n    /home/cds-au613522/cds-language/my_repo_language_github/LanguageAnalytics/assignment7_WineClassification/Wine_env/lib/python3.6/site-packages/tensorflow/python/keras/engine/training.py:1468 step_function  **\n        outputs = model.distribute_strategy.run(run_step, args=(data,))\n    /home/cds-au613522/cds-language/my_repo_language_github/LanguageAnalytics/assignment7_WineClassification/Wine_env/lib/python3.6/site-packages/tensorflow/python/distribute/distribute_lib.py:1259 run\n        return self._extended.call_for_each_replica(fn, args=args, kwargs=kwargs)\n    /home/cds-au613522/cds-language/my_repo_language_github/LanguageAnalytics/assignment7_WineClassification/Wine_env/lib/python3.6/site-packages/tensorflow/python/distribute/distribute_lib.py:2730 call_for_each_replica\n        return self._call_for_each_replica(fn, args, kwargs)\n    /home/cds-au613522/cds-language/my_repo_language_github/LanguageAnalytics/assignment7_WineClassification/Wine_env/lib/python3.6/site-packages/tensorflow/python/distribute/distribute_lib.py:3417 _call_for_each_replica\n        return fn(*args, **kwargs)\n    /home/cds-au613522/cds-language/my_repo_language_github/LanguageAnalytics/assignment7_WineClassification/Wine_env/lib/python3.6/site-packages/tensorflow/python/keras/engine/training.py:1461 run_step  **\n        outputs = model.predict_step(data)\n    /home/cds-au613522/cds-language/my_repo_language_github/LanguageAnalytics/assignment7_WineClassification/Wine_env/lib/python3.6/site-packages/tensorflow/python/keras/engine/training.py:1434 predict_step\n        return self(x, training=False)\n    /home/cds-au613522/cds-language/my_repo_language_github/LanguageAnalytics/assignment7_WineClassification/Wine_env/lib/python3.6/site-packages/tensorflow/python/keras/engine/base_layer.py:1012 __call__\n        outputs = call_fn(inputs, *args, **kwargs)\n    /home/cds-au613522/cds-language/my_repo_language_github/LanguageAnalytics/assignment7_WineClassification/Wine_env/lib/python3.6/site-packages/tensorflow/python/keras/engine/sequential.py:375 call\n        return super(Sequential, self).call(inputs, training=training, mask=mask)\n    /home/cds-au613522/cds-language/my_repo_language_github/LanguageAnalytics/assignment7_WineClassification/Wine_env/lib/python3.6/site-packages/tensorflow/python/keras/engine/functional.py:425 call\n        inputs, training=training, mask=mask)\n    /home/cds-au613522/cds-language/my_repo_language_github/LanguageAnalytics/assignment7_WineClassification/Wine_env/lib/python3.6/site-packages/tensorflow/python/keras/engine/functional.py:560 _run_internal_graph\n        outputs = node.layer(*args, **kwargs)\n    /home/cds-au613522/cds-language/my_repo_language_github/LanguageAnalytics/assignment7_WineClassification/Wine_env/lib/python3.6/site-packages/tensorflow/python/keras/engine/base_layer.py:1012 __call__\n        outputs = call_fn(inputs, *args, **kwargs)\n    /home/cds-au613522/cds-language/my_repo_language_github/LanguageAnalytics/assignment7_WineClassification/Wine_env/lib/python3.6/site-packages/tensorflow/python/keras/layers/convolutional.py:248 call\n        outputs = self._convolution_op(inputs, self.kernel)\n    /home/cds-au613522/cds-language/my_repo_language_github/LanguageAnalytics/assignment7_WineClassification/Wine_env/lib/python3.6/site-packages/tensorflow/python/util/dispatch.py:201 wrapper\n        return target(*args, **kwargs)\n    /home/cds-au613522/cds-language/my_repo_language_github/LanguageAnalytics/assignment7_WineClassification/Wine_env/lib/python3.6/site-packages/tensorflow/python/ops/nn_ops.py:1020 convolution_v2\n        name=name)\n    /home/cds-au613522/cds-language/my_repo_language_github/LanguageAnalytics/assignment7_WineClassification/Wine_env/lib/python3.6/site-packages/tensorflow/python/ops/nn_ops.py:1150 convolution_internal\n        name=name)\n    /home/cds-au613522/cds-language/my_repo_language_github/LanguageAnalytics/assignment7_WineClassification/Wine_env/lib/python3.6/site-packages/tensorflow/python/util/dispatch.py:201 wrapper\n        return target(*args, **kwargs)\n    /home/cds-au613522/cds-language/my_repo_language_github/LanguageAnalytics/assignment7_WineClassification/Wine_env/lib/python3.6/site-packages/tensorflow/python/util/deprecation.py:605 new_func\n        return func(*args, **kwargs)\n    /home/cds-au613522/cds-language/my_repo_language_github/LanguageAnalytics/assignment7_WineClassification/Wine_env/lib/python3.6/site-packages/tensorflow/python/util/deprecation.py:605 new_func\n        return func(*args, **kwargs)\n    /home/cds-au613522/cds-language/my_repo_language_github/LanguageAnalytics/assignment7_WineClassification/Wine_env/lib/python3.6/site-packages/tensorflow/python/ops/nn_ops.py:1893 conv1d\n        name=name)\n    /home/cds-au613522/cds-language/my_repo_language_github/LanguageAnalytics/assignment7_WineClassification/Wine_env/lib/python3.6/site-packages/tensorflow/python/ops/gen_nn_ops.py:973 conv2d\n        data_format=data_format, dilations=dilations, name=name)\n    /home/cds-au613522/cds-language/my_repo_language_github/LanguageAnalytics/assignment7_WineClassification/Wine_env/lib/python3.6/site-packages/tensorflow/python/framework/op_def_library.py:750 _apply_op_helper\n        attrs=attr_protos, op_def=op_def)\n    /home/cds-au613522/cds-language/my_repo_language_github/LanguageAnalytics/assignment7_WineClassification/Wine_env/lib/python3.6/site-packages/tensorflow/python/framework/func_graph.py:592 _create_op_internal\n        compute_device)\n    /home/cds-au613522/cds-language/my_repo_language_github/LanguageAnalytics/assignment7_WineClassification/Wine_env/lib/python3.6/site-packages/tensorflow/python/framework/ops.py:3536 _create_op_internal\n        op_def=op_def)\n    /home/cds-au613522/cds-language/my_repo_language_github/LanguageAnalytics/assignment7_WineClassification/Wine_env/lib/python3.6/site-packages/tensorflow/python/framework/ops.py:2016 __init__\n        control_input_ops, op_def)\n    /home/cds-au613522/cds-language/my_repo_language_github/LanguageAnalytics/assignment7_WineClassification/Wine_env/lib/python3.6/site-packages/tensorflow/python/framework/ops.py:1856 _create_c_op\n        raise ValueError(str(e))\n\n    ValueError: Negative dimension size caused by subtracting 5 from 1 for '{{node sequential_3/conv1d_3/conv1d}} = Conv2D[T=DT_FLOAT, data_format=\"NHWC\", dilations=[1, 1, 1, 1], explicit_paddings=[], padding=\"VALID\", strides=[1, 1, 1, 1], use_cudnn_on_gpu=true](sequential_3/conv1d_3/conv1d/ExpandDims, sequential_3/conv1d_3/conv1d/ExpandDims_1)' with input shapes: [?,1,1,50], [1,5,50,128].\n"
     ]
    }
   ],
   "source": [
    "model.predict(X_test)"
   ]
  },
  {
   "cell_type": "code",
   "execution_count": null,
   "metadata": {},
   "outputs": [],
   "source": []
  }
 ],
 "metadata": {
  "kernelspec": {
   "display_name": "Wine_env",
   "language": "python",
   "name": "wine_env"
  },
  "language_info": {
   "codemirror_mode": {
    "name": "ipython",
    "version": 3
   },
   "file_extension": ".py",
   "mimetype": "text/x-python",
   "name": "python",
   "nbconvert_exporter": "python",
   "pygments_lexer": "ipython3",
   "version": "3.6.9"
  }
 },
 "nbformat": 4,
 "nbformat_minor": 4
}
